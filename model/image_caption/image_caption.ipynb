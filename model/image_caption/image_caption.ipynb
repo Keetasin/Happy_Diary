{
  "cells": [
    {
      "cell_type": "markdown",
      "metadata": {
        "id": "Iq_7W3dRpUCi"
      },
      "source": [
        "# Image Captioning"
      ]
    },
    {
      "cell_type": "markdown",
      "metadata": {
        "id": "j6dXATtypbSD"
      },
      "source": [
        "# Import necessary modules"
      ]
    },
    {
      "cell_type": "code",
      "execution_count": null,
      "metadata": {
        "id": "UiqualubpFQr"
      },
      "outputs": [],
      "source": [
        "# Basic libraries\n",
        "import os\n",
        "import pickle\n",
        "import numpy as np\n",
        "import matplotlib.pyplot as plt\n",
        "from PIL import Image\n",
        "import warnings\n",
        "warnings.filterwarnings('ignore')\n",
        "from math import ceil\n",
        "from collections import defaultdict\n",
        "from tqdm.notebook import tqdm        # Progress bar library for Jupyter Notebook\n",
        "\n",
        "# Deep learning framework for building and training models\n",
        "import tensorflow as tf\n",
        "## Pre-trained model for image feature extraction\n",
        "from tensorflow.keras.applications.vgg16 import VGG16, preprocess_input\n",
        "from tensorflow.keras.preprocessing.image import load_img, img_to_array\n",
        "\n",
        "## Tokenizer class for captions tokenization\n",
        "from tensorflow.keras.preprocessing.text import Tokenizer\n",
        "\n",
        "## Function for padding sequences to a specific length\n",
        "from tensorflow.keras.preprocessing.sequence import pad_sequences\n",
        "\n",
        "## Class for defining Keras models\n",
        "from tensorflow.keras.models import Model\n",
        "from tensorflow.keras.utils import to_categorical, plot_model\n",
        "from tensorflow.keras.layers import Input, Dense, LSTM, Embedding, Dropout, concatenate, Bidirectional, Dot, Activation, RepeatVector, Multiply, Lambda, add\n",
        "\n",
        "# For checking score\n",
        "from nltk.translate.bleu_score import corpus_bleu\n"
      ]
    },
    {
      "cell_type": "code",
      "execution_count": null,
      "metadata": {
        "colab": {
          "base_uri": "https://localhost:8080/"
        },
        "collapsed": true,
        "id": "DZlqEzetCyK4",
        "outputId": "bc4b80a6-db94-47ed-de08-8b710bb92d49"
      },
      "outputs": [],
      "source": [
        "# !pip install kaggle\n",
        "# !mkdir -p ~/.kaggle\n",
        "# !cp kaggle.json ~/.kaggle/\n",
        "# !chmod 600 ~/.kaggle/kaggle.json\n",
        "# !kaggle datasets download -d adityajn105/flickr8k\n",
        "# !unzip flickr8k.zip"
      ]
    },
    {
      "cell_type": "code",
      "execution_count": null,
      "metadata": {
        "id": "okpw4k4ExHxp"
      },
      "outputs": [],
      "source": [
        "INPUT_DIR = '/content'\n",
        "OUTPUT_DIR = '/content'"
      ]
    },
    {
      "cell_type": "markdown",
      "metadata": {
        "id": "Z5RAiJpupmox"
      },
      "source": [
        "# Image Features Extraction"
      ]
    },
    {
      "cell_type": "code",
      "execution_count": null,
      "metadata": {
        "colab": {
          "base_uri": "https://localhost:8080/",
          "height": 888
        },
        "id": "VuK4GFt-xKN9",
        "outputId": "680e6499-f5e5-4a57-e6d8-de4adabb41ec"
      },
      "outputs": [],
      "source": [
        "# We are going to use pretraind vgg model\n",
        "# Load the vgg16 model\n",
        "model = VGG16()\n",
        "\n",
        "# Restructuring the model to remove the last classification layer, this will give us access to the output features of the model\n",
        "model = Model(inputs=model.inputs, outputs=model.layers[-2].output)\n",
        "\n",
        "# Printing the model summary\n",
        "print(model.summary())"
      ]
    },
    {
      "cell_type": "code",
      "execution_count": null,
      "metadata": {
        "colab": {
          "base_uri": "https://localhost:8080/",
          "height": 49,
          "referenced_widgets": [
            "ef415ba7bbfd45b290a463dc232d03c7",
            "5a75b80d38c543a2bfdb9dd346e6bb8a",
            "8c15e8c7192d4ae5acca43d9b5f9a863",
            "7646bd117e1946828fdc7e312edf4908",
            "a0834ed5a64b4fdba5a7906450ec2c53",
            "d6b28c55bca54ea3866df3ffa5dc5fc6",
            "ff06df26d65c4dd3bfa0e7a8665c5532",
            "079afafebcd84d2a80f3c4d958691faa",
            "e5f37f0a5a174016842b094c6360d1ed",
            "d464e09bb2bc4d94b656b111ddfee1ca",
            "4dea92f4241244b18277c33df1e65258"
          ]
        },
        "id": "plYzDe1xxR23",
        "outputId": "be33dc61-908d-4c43-ef57-d9eb29161a56"
      },
      "outputs": [],
      "source": [
        "# Initialize an empty dictionary to store image features\n",
        "image_features = {}\n",
        "\n",
        "# Define the directory path where images are located\n",
        "img_dir = os.path.join(INPUT_DIR, 'Images')\n",
        "\n",
        "# Loop through each image in the directory\n",
        "for img_name in tqdm(os.listdir(img_dir)):\n",
        "    # Load the image from file\n",
        "    img_path = os.path.join(img_dir, img_name)\n",
        "    image = load_img(img_path, target_size=(224, 224))\n",
        "    # Convert image pixels to a numpy array\n",
        "    image = img_to_array(image)\n",
        "    # Reshape the data for the model\n",
        "    image = image.reshape((1, image.shape[0], image.shape[1], image.shape[2]))\n",
        "    # Preprocess the image for ResNet50\n",
        "    image = preprocess_input(image)\n",
        "    # Extract features using the pre-trained ResNet50 model\n",
        "    image_feature = model.predict(image, verbose=0)\n",
        "    # Get the image ID by removing the file extension\n",
        "    image_id = img_name.split('.')[0]\n",
        "    # Store the extracted feature in the dictionary with the image ID as the key\n",
        "    image_features[image_id] = image_feature"
      ]
    },
    {
      "cell_type": "code",
      "execution_count": null,
      "metadata": {
        "id": "NrgJMDYnukZF"
      },
      "outputs": [],
      "source": [
        "# Store the image features in pickle\n",
        "pickle.dump(image_features, open(os.path.join(OUTPUT_DIR, 'img_features.pkl'), 'wb'))"
      ]
    },
    {
      "cell_type": "code",
      "execution_count": null,
      "metadata": {
        "id": "qz9to2VPuq6Y"
      },
      "outputs": [],
      "source": [
        "# Load features from pickle file\n",
        "pickle_file_path = os.path.join(OUTPUT_DIR, 'img_features.pkl')\n",
        "with open(pickle_file_path, 'rb') as file:\n",
        "    loaded_features = pickle.load(file)"
      ]
    },
    {
      "cell_type": "markdown",
      "metadata": {
        "id": "Ej8aVXdvp-FA"
      },
      "source": [
        "# Loading Caption Data"
      ]
    },
    {
      "cell_type": "code",
      "execution_count": null,
      "metadata": {
        "id": "lckfIiu9uvmo"
      },
      "outputs": [],
      "source": [
        "with open(os.path.join(INPUT_DIR, 'captions.txt'), 'r') as file:\n",
        "    next(file)\n",
        "    captions_doc = file.read()"
      ]
    },
    {
      "cell_type": "code",
      "execution_count": null,
      "metadata": {
        "colab": {
          "base_uri": "https://localhost:8080/",
          "height": 67,
          "referenced_widgets": [
            "2227990ba57b4449ab8f9171385b58ab",
            "f10ef2cf6ed248c5afa8bcbb41f2d7ee",
            "20d8c175bc9c4df6921351512534e6b5",
            "0bcecb2340774443a716264fc681cfaf",
            "3cf499481b4e49539930a05edd8fd949",
            "a24dbc341ff940e7a5b7419c4e960ed6",
            "69ddeaf87d10468da81e7d337eed39bc",
            "859c63b4926f46668293bf806eb90452",
            "ea2489ab44a3438a96fb7131b0c1805e",
            "d4c5c216e9ea44faa3620957e070e607",
            "7470c61ec36c4276b6afe59111abe87f"
          ]
        },
        "id": "LVUhf86muyzy",
        "outputId": "547f978c-7a2b-46d5-fe41-d72abb5de9e9"
      },
      "outputs": [],
      "source": [
        "# Create mapping of image to captions\n",
        "image_to_captions_mapping = defaultdict(list)\n",
        "\n",
        "# Process lines from captions_doc\n",
        "for line in tqdm(captions_doc.split('\\n')):\n",
        "    # Split the line by comma(,)\n",
        "    tokens = line.split(',')\n",
        "    if len(tokens) < 2:\n",
        "        continue\n",
        "    image_id, *captions = tokens\n",
        "    # Remove extension from image ID\n",
        "    image_id = image_id.split('.')[0]\n",
        "    # Convert captions list to string\n",
        "    caption = \" \".join(captions)\n",
        "    # Store the caption using defaultdict\n",
        "    image_to_captions_mapping[image_id].append(caption)\n",
        "\n",
        "# Print the total number of captions\n",
        "total_captions = sum(len(captions) for captions in image_to_captions_mapping.values())\n",
        "print(\"Total number of captions:\", total_captions)"
      ]
    },
    {
      "cell_type": "markdown",
      "metadata": {
        "id": "S8BcJc36qJ0j"
      },
      "source": [
        "# Preprocessing Captions: Getting Them Ready"
      ]
    },
    {
      "cell_type": "code",
      "execution_count": null,
      "metadata": {
        "id": "CXdREkYmu1iX"
      },
      "outputs": [],
      "source": [
        "# Function for processing the captions\n",
        "def clean(mapping):\n",
        "    for key, captions in mapping.items():\n",
        "        for i in range(len(captions)):\n",
        "            # Take one caption at a time\n",
        "            caption = captions[i]\n",
        "            # Preprocessing steps\n",
        "            # Convert to lowercase\n",
        "            caption = caption.lower()\n",
        "            # Remove non-alphabetical characters\n",
        "            caption = ''.join(char for char in caption if char.isalpha() or char.isspace())\n",
        "            # Remove extra spaces\n",
        "            caption = caption.replace('\\s+', ' ')\n",
        "            # Add unique start and end tokens to the caption\n",
        "            caption = 'startseq ' + ' '.join([word for word in caption.split() if len(word) > 1]) + ' endseq'\n",
        "            captions[i] = caption"
      ]
    },
    {
      "cell_type": "code",
      "execution_count": null,
      "metadata": {
        "colab": {
          "base_uri": "https://localhost:8080/"
        },
        "id": "6HJFd5RRu2j0",
        "outputId": "26a6f50c-8645-497a-c714-3e34719220f0"
      },
      "outputs": [],
      "source": [
        "# before preprocess of text\n",
        "image_to_captions_mapping['1026685415_0431cbf574']"
      ]
    },
    {
      "cell_type": "code",
      "execution_count": null,
      "metadata": {
        "id": "K-hH5eyZu5Vw"
      },
      "outputs": [],
      "source": [
        "# preprocess the text\n",
        "clean(image_to_captions_mapping)"
      ]
    },
    {
      "cell_type": "code",
      "execution_count": null,
      "metadata": {
        "colab": {
          "base_uri": "https://localhost:8080/"
        },
        "id": "_6nKt3EEu7Yl",
        "outputId": "0a4729bc-3498-40ea-ec72-4238628359a1"
      },
      "outputs": [],
      "source": [
        "# after preprocess of text\n",
        "image_to_captions_mapping['1026685415_0431cbf574']"
      ]
    },
    {
      "cell_type": "code",
      "execution_count": null,
      "metadata": {
        "id": "jCMG-sx9u9Mc"
      },
      "outputs": [],
      "source": [
        "# Creating a List of All Captions\n",
        "all_captions = [caption for captions in image_to_captions_mapping.values() for caption in captions]"
      ]
    },
    {
      "cell_type": "code",
      "execution_count": null,
      "metadata": {
        "colab": {
          "base_uri": "https://localhost:8080/"
        },
        "id": "tISEeEDVvPVJ",
        "outputId": "33112643-82c8-48d3-9837-6b173d6d1140"
      },
      "outputs": [],
      "source": [
        "all_captions[:10]"
      ]
    },
    {
      "cell_type": "code",
      "execution_count": null,
      "metadata": {
        "id": "WiR4GHaHvQ8_"
      },
      "outputs": [],
      "source": [
        "# Tokenizing the Text\n",
        "tokenizer = Tokenizer()\n",
        "tokenizer.fit_on_texts(all_captions)"
      ]
    },
    {
      "cell_type": "code",
      "execution_count": null,
      "metadata": {
        "id": "-_MKACDxvTSY"
      },
      "outputs": [],
      "source": [
        "# Save the tokenizer\n",
        "with open('tokenizer.pkl', 'wb') as tokenizer_file:\n",
        "    pickle.dump(tokenizer, tokenizer_file)\n",
        "\n",
        "# Load the tokenizer\n",
        "with open('tokenizer.pkl', 'rb') as tokenizer_file:\n",
        "    tokenizer = pickle.load(tokenizer_file)"
      ]
    },
    {
      "cell_type": "code",
      "execution_count": null,
      "metadata": {
        "colab": {
          "base_uri": "https://localhost:8080/"
        },
        "id": "zXabrCdbvU3D",
        "outputId": "910713c9-5207-4f40-9bd8-c1e1dd433343"
      },
      "outputs": [],
      "source": [
        "# Calculate maximum caption length\n",
        "max_caption_length = max(len(tokenizer.texts_to_sequences([caption])[0]) for caption in all_captions)\n",
        "vocab_size = len(tokenizer.word_index) + 1\n",
        "\n",
        "# Print the results\n",
        "print(\"Vocabulary Size:\", vocab_size)\n",
        "print(\"Maximum Caption Length:\", max_caption_length)"
      ]
    },
    {
      "cell_type": "code",
      "execution_count": null,
      "metadata": {
        "id": "Ilm5Ou6rFUgB"
      },
      "outputs": [],
      "source": [
        "max_length = max(len(caption.split()) for caption in all_captions)"
      ]
    },
    {
      "cell_type": "markdown",
      "metadata": {
        "id": "bSrfMgMeqQy4"
      },
      "source": [
        "# Train Test Split"
      ]
    },
    {
      "cell_type": "code",
      "execution_count": null,
      "metadata": {
        "id": "e3hOwGDwvW68"
      },
      "outputs": [],
      "source": [
        "# Creating a List of Image IDs\n",
        "image_ids = list(image_to_captions_mapping.keys())\n",
        "# Splitting into Training and Test Sets\n",
        "split = int(len(image_ids) * 0.90)\n",
        "train = image_ids[:split]\n",
        "test = image_ids[split:]"
      ]
    },
    {
      "cell_type": "code",
      "execution_count": null,
      "metadata": {
        "id": "Cbx4ozAsvcRv"
      },
      "outputs": [],
      "source": [
        "# create data generator to get data in batch (avoids session crash)\n",
        "def data_generator(data_keys, mapping, features, tokenizer, max_length, vocab_size, batch_size):\n",
        "    # loop over images\n",
        "    X1, X2, y = list(), list(), list()\n",
        "    n = 0\n",
        "    while 1:\n",
        "        for key in data_keys:\n",
        "            n += 1\n",
        "            captions = mapping[key]\n",
        "            # process each caption\n",
        "            for caption in captions:\n",
        "                # encode the sequence\n",
        "                seq = tokenizer.texts_to_sequences([caption])[0]\n",
        "                # split the sequence into X, y pairs\n",
        "                for i in range(1, len(seq)):\n",
        "                    # split into input and output pairs\n",
        "                    in_seq, out_seq = seq[:i], seq[i]\n",
        "                    # pad input sequence\n",
        "                    in_seq = pad_sequences([in_seq], maxlen=max_length, padding='post')[0]\n",
        "                    # encode output sequence\n",
        "                    out_seq = to_categorical([out_seq], \tnum_classes=vocab_size)[0]\n",
        "                    # store the sequences\n",
        "                    X1.append(features[key][0])\n",
        "                    X2.append(in_seq)\n",
        "                    y.append(out_seq)\n",
        "            if n == batch_size:\n",
        "                X1, X2, y = np.array(X1), np.array(X2), np.array(y)\n",
        "                yield {\"image\": X1, \"text\": X2}, y\n",
        "                X1, X2, y = list(), list(), list()\n",
        "                n = 0"
      ]
    },
    {
      "cell_type": "markdown",
      "metadata": {
        "id": "c7tI0ytOqVKA"
      },
      "source": [
        "# LSTM Model Training"
      ]
    },
    {
      "cell_type": "code",
      "execution_count": null,
      "metadata": {
        "colab": {
          "base_uri": "https://localhost:8080/"
        },
        "collapsed": true,
        "id": "i_GCyufsTTtc",
        "outputId": "094d4b7a-a485-4f85-96a6-05618150ac01"
      },
      "outputs": [],
      "source": [
        "from tensorflow.keras.models import Model\n",
        "from tensorflow.keras.layers import Input, Dropout, Dense, LSTM, Embedding, RepeatVector, Bidirectional, Concatenate, Activation, dot, Lambda\n",
        "from tensorflow.keras.optimizers import Adam\n",
        "from tensorflow.keras.callbacks import EarlyStopping, ReduceLROnPlateau\n",
        "\n",
        "# encoder model\n",
        "# image feature layers\n",
        "inputs1 = Input(shape=(4096,), name=\"image\")\n",
        "fe1 = Dropout(0.4)(inputs1)\n",
        "fe2 = Dense(256, activation='relu')(fe1)\n",
        "# sequence feature layers\n",
        "inputs2 = Input(shape=(max_length,), name=\"text\")\n",
        "se1 = Embedding(vocab_size, 256, mask_zero=True)(inputs2)\n",
        "se2 = Dropout(0.4)(se1)\n",
        "se3 = LSTM(256)(se2)\n",
        "\n",
        "# decoder model\n",
        "decoder1 = add([fe2, se3])\n",
        "decoder2 = Dense(256, activation='relu')(decoder1)\n",
        "outputs = Dense(vocab_size, activation='softmax')(decoder2)\n",
        "\n",
        "model = Model(inputs=[inputs1, inputs2], outputs=outputs)\n",
        "model.compile(loss='categorical_crossentropy', optimizer='adam')\n",
        "\n",
        "# plot the model\n",
        "plot_model(model, show_shapes=True)\n",
        "\n",
        "# Callbacks\n",
        "early_stopping = EarlyStopping(monitor='val_loss', patience=5, restore_best_weights=True)\n",
        "reduce_lr = ReduceLROnPlateau(monitor='val_loss', factor=0.5, patience=3, verbose=1)\n",
        "\n",
        "# Training settings\n",
        "epochs = 10\n",
        "batch_size = 32\n",
        "steps_per_epoch = len(train) // batch_size\n",
        "validation_steps = len(test) // batch_size\n",
        "\n",
        "# Training loop\n",
        "for epoch in range(epochs):\n",
        "    print(f\"Epoch {epoch+1}/{epochs}\")\n",
        "\n",
        "    train_generator = data_generator(train, image_to_captions_mapping, loaded_features, tokenizer, max_caption_length, vocab_size, batch_size)\n",
        "    test_generator = data_generator(test, image_to_captions_mapping, loaded_features, tokenizer, max_caption_length, vocab_size, batch_size)\n",
        "\n",
        "    model.fit(\n",
        "        train_generator,\n",
        "        epochs=1,\n",
        "        steps_per_epoch=steps_per_epoch,\n",
        "        validation_data=test_generator,\n",
        "        validation_steps=validation_steps,\n",
        "        callbacks=[early_stopping, reduce_lr],\n",
        "        verbose=1\n",
        "    )\n"
      ]
    },
    {
      "cell_type": "code",
      "execution_count": null,
      "metadata": {
        "colab": {
          "base_uri": "https://localhost:8080/",
          "height": 529
        },
        "id": "701fMwgjfTKI",
        "outputId": "71730bba-f34f-4f64-b116-08556d1fd98b"
      },
      "outputs": [],
      "source": [
        "# Save the model in new format\n",
        "model.save('mymodel.keras')\n",
        "\n",
        "# Load the model\n",
        "model = tf.keras.models.load_model(\"mymodel.keras\")\n",
        "model.summary()\n"
      ]
    },
    {
      "cell_type": "markdown",
      "metadata": {
        "id": "qJnbYaLmrACH"
      },
      "source": [
        "# Captions Generation"
      ]
    },
    {
      "cell_type": "code",
      "execution_count": null,
      "metadata": {
        "id": "MdlF_hrO4a59"
      },
      "outputs": [],
      "source": [
        "def get_word_from_index(index, tokenizer):\n",
        "    return next((word for word, idx in tokenizer.word_index.items() if idx == index), None)"
      ]
    },
    {
      "cell_type": "code",
      "execution_count": null,
      "metadata": {
        "id": "Bo2G0mt84bWp"
      },
      "outputs": [],
      "source": [
        "def predict_caption(model, image_features, tokenizer, max_caption_length):\n",
        "    # Initialize the caption sequence\n",
        "    caption = 'startseq'\n",
        "\n",
        "    # Generate the caption\n",
        "    for _ in range(max_caption_length):\n",
        "        # Convert the current caption to a sequence of token indices\n",
        "        sequence = tokenizer.texts_to_sequences([caption])[0]\n",
        "        # Pad the sequence to match the maximum caption length\n",
        "        sequence = pad_sequences([sequence], maxlen=max_caption_length, padding='post')\n",
        "\n",
        "        # Predict the next word's probability distribution\n",
        "        yhat = model.predict([image_features, sequence], verbose=0)\n",
        "        # Get the index with the highest probability\n",
        "        predicted_index = np.argmax(yhat)\n",
        "        # Convert the index to a word\n",
        "        predicted_word = get_word_from_index(predicted_index, tokenizer)\n",
        "\n",
        "        # Append the predicted word to the caption\n",
        "        caption += \" \" + predicted_word\n",
        "\n",
        "        # Stop if the word is None or if the end sequence tag is encountered\n",
        "        if predicted_word is None or predicted_word == 'endseq':\n",
        "            break\n",
        "\n",
        "    return caption"
      ]
    },
    {
      "cell_type": "code",
      "execution_count": null,
      "metadata": {
        "colab": {
          "base_uri": "https://localhost:8080/",
          "height": 85,
          "referenced_widgets": [
            "ce6bd1805a1f467096253a86bcc8f7f6",
            "ddea4d102c7344dcbf5bda61b344c6e9",
            "1465da087ad74a619fc1ee5e0aebac7f",
            "35734068a5b74dcc8629ba93c3767cc6",
            "7ba5d7aaf39e455a861d76398909f586",
            "2a92cf5bc70b46fd9e5488a2df3fc18a",
            "368e54e530924d1a84c1c6b5a8fdb85c",
            "a81321ebafd34d50b20bda6eee44d392",
            "a93512a0f2144b3c8436224020f534b4",
            "e17c9bf47bfa494ab8c7e0f09d294da2",
            "76fd4e105f68418da37d9136028dc60c"
          ]
        },
        "id": "o4OPWXwy4dCO",
        "outputId": "db725d9b-2d68-414f-dc46-bc7e2f11b6e6"
      },
      "outputs": [],
      "source": [
        "# Initialize lists to store actual and predicted captions\n",
        "actual_captions_list = []\n",
        "predicted_captions_list = []\n",
        "\n",
        "# Loop through the test data\n",
        "for key in tqdm(test):\n",
        "    # Get actual captions for the current image\n",
        "    actual_captions = image_to_captions_mapping[key]\n",
        "    # Predict the caption for the image using the model\n",
        "    predicted_caption = predict_caption(model, loaded_features[key], tokenizer, max_caption_length)\n",
        "\n",
        "    # Split actual captions into words\n",
        "    actual_captions_words = [caption.split() for caption in actual_captions]\n",
        "    # Split predicted caption into words\n",
        "    predicted_caption_words = predicted_caption.split()\n",
        "\n",
        "    # Append to the lists\n",
        "    actual_captions_list.append(actual_captions_words)\n",
        "    predicted_captions_list.append(predicted_caption_words)\n",
        "\n",
        "# Calculate BLEU score\n",
        "print(\"BLEU-1: %f\" % corpus_bleu(actual_captions_list, predicted_captions_list, weights=(1.0, 0, 0, 0)))\n",
        "print(\"BLEU-2: %f\" % corpus_bleu(actual_captions_list, predicted_captions_list, weights=(0.5, 0.5, 0, 0)))"
      ]
    },
    {
      "cell_type": "markdown",
      "metadata": {
        "id": "-in54EH5rEpA"
      },
      "source": [
        "# Predicting captions for Images"
      ]
    },
    {
      "cell_type": "code",
      "execution_count": null,
      "metadata": {
        "id": "gJ8_VpPz4fGB"
      },
      "outputs": [],
      "source": [
        "# Function for generating caption\n",
        "def generate_caption(image_name):\n",
        "    # load the image\n",
        "    image_id = image_name.split('.')[0]\n",
        "    img_path = os.path.join(INPUT_DIR, \"Images\", image_name)\n",
        "    image = Image.open(img_path)\n",
        "    captions = image_to_captions_mapping[image_id]\n",
        "    print('---------------------Actual---------------------')\n",
        "    for caption in captions:\n",
        "        print(caption)\n",
        "    # predict the caption\n",
        "    y_pred = predict_caption(model, loaded_features[image_id], tokenizer, max_caption_length)\n",
        "    print('--------------------Predicted--------------------')\n",
        "    print(y_pred)\n",
        "    plt.imshow(image)"
      ]
    },
    {
      "cell_type": "code",
      "execution_count": null,
      "metadata": {
        "colab": {
          "base_uri": "https://localhost:8080/",
          "height": 565
        },
        "id": "ffMqgp8l4hLi",
        "outputId": "75226799-e595-40a3-826e-209829adff63"
      },
      "outputs": [],
      "source": [
        "generate_caption(\"101669240_b2d3e7f17b.jpg\")"
      ]
    },
    {
      "cell_type": "code",
      "execution_count": null,
      "metadata": {
        "colab": {
          "base_uri": "https://localhost:8080/",
          "height": 579
        },
        "id": "Dk7rd1RI4mSW",
        "outputId": "3b9f6df7-60bd-4af0-b311-4d3f796fe755"
      },
      "outputs": [],
      "source": [
        "generate_caption(\"1077546505_a4f6c4daa9.jpg\")"
      ]
    },
    {
      "cell_type": "code",
      "execution_count": null,
      "metadata": {
        "colab": {
          "base_uri": "https://localhost:8080/",
          "height": 581
        },
        "id": "zhGHwypK4nw8",
        "outputId": "7b45db6e-e3e1-433f-8925-8a2ad0869b43"
      },
      "outputs": [],
      "source": [
        "generate_caption(\"1002674143_1b742ab4b8.jpg\")"
      ]
    },
    {
      "cell_type": "code",
      "execution_count": null,
      "metadata": {
        "colab": {
          "base_uri": "https://localhost:8080/",
          "height": 581
        },
        "id": "Ffa8UdPz4psK",
        "outputId": "77207fae-1232-4843-b5f5-6514a0312bc5"
      },
      "outputs": [],
      "source": [
        "generate_caption(\"1032460886_4a598ed535.jpg\")"
      ]
    },
    {
      "cell_type": "code",
      "execution_count": null,
      "metadata": {
        "colab": {
          "base_uri": "https://localhost:8080/",
          "height": 581
        },
        "id": "KseTRkHH4rIF",
        "outputId": "d909756f-8ee8-4228-bcfe-d0eabae14d43"
      },
      "outputs": [],
      "source": [
        "generate_caption(\"1032122270_ea6f0beedb.jpg\")"
      ]
    },
    {
      "cell_type": "code",
      "execution_count": null,
      "metadata": {
        "colab": {
          "base_uri": "https://localhost:8080/"
        },
        "id": "Wv7Kj6OknA4h",
        "outputId": "22849a85-1835-400a-9b8f-b021b7845215"
      },
      "outputs": [],
      "source": [
        "import numpy as np\n",
        "import pickle\n",
        "from tensorflow.keras.models import load_model\n",
        "from tensorflow.keras.preprocessing.sequence import pad_sequences\n",
        "\n",
        "def load_model_and_data(model_path, features_path, tokenizer_path):\n",
        "    \"\"\"โหลดโมเดล, features และ tokenizer\"\"\"\n",
        "    model = load_model(model_path)\n",
        "\n",
        "    with open(features_path, \"rb\") as f:\n",
        "        img_features = pickle.load(f)\n",
        "\n",
        "    with open(tokenizer_path, \"rb\") as f:\n",
        "        tokenizer = pickle.load(f)\n",
        "\n",
        "    return model, img_features, tokenizer\n",
        "\n",
        "def generate_caption(model, tokenizer, photo_feature, max_length=34):\n",
        "    \"\"\"สร้างแคปชันสำหรับภาพที่กำหนด\"\"\"\n",
        "    in_text = \"startseq\"\n",
        "    for _ in range(max_length):\n",
        "        sequence = tokenizer.texts_to_sequences([in_text])[0]\n",
        "        sequence = pad_sequences([sequence], maxlen=max_length, padding=\"post\")\n",
        "\n",
        "        y_pred = model.predict([photo_feature, sequence], verbose=0)\n",
        "        y_pred = np.argmax(y_pred)\n",
        "\n",
        "        word = None\n",
        "        for w, index in tokenizer.word_index.items():\n",
        "            if index == y_pred:\n",
        "                word = w\n",
        "                break\n",
        "\n",
        "        if word is None or word == \"endseq\":\n",
        "            break\n",
        "\n",
        "        in_text += \" \" + word\n",
        "\n",
        "    return in_text.replace(\"startseq\", \"\").replace(\"endseq\", \"\").strip()\n",
        "\n",
        "if __name__ == \"__main__\":\n",
        "    model_path = \"mymodel.keras\"\n",
        "    features_path = \"img_features.pkl\"\n",
        "    tokenizer_path = \"tokenizer.pkl\"\n",
        "    max_caption_length = 34\n",
        "\n",
        "    model, img_features, tokenizer = load_model_and_data(model_path, features_path, tokenizer_path)\n",
        "\n",
        "    image_id = \"1032122270_ea6f0beedb\"\n",
        "    if image_id in img_features:\n",
        "        photo_feature = img_features[image_id].reshape((1, -1))\n",
        "        caption = generate_caption(model, tokenizer, photo_feature, max_caption_length)\n",
        "        print(\"Generated Caption:\", caption)\n",
        "    else:\n",
        "        print(\"Error: Image ID not found in features!\")\n"
      ]
    }
  ],
  "metadata": {
    "accelerator": "GPU",
    "colab": {
      "gpuType": "T4",
      "provenance": []
    },
    "kernelspec": {
      "display_name": "Python 3",
      "name": "python3"
    },
    "language_info": {
      "name": "python"
    },
    "widgets": {
      "application/vnd.jupyter.widget-state+json": {
        "079afafebcd84d2a80f3c4d958691faa": {
          "model_module": "@jupyter-widgets/base",
          "model_module_version": "1.2.0",
          "model_name": "LayoutModel",
          "state": {
            "_model_module": "@jupyter-widgets/base",
            "_model_module_version": "1.2.0",
            "_model_name": "LayoutModel",
            "_view_count": null,
            "_view_module": "@jupyter-widgets/base",
            "_view_module_version": "1.2.0",
            "_view_name": "LayoutView",
            "align_content": null,
            "align_items": null,
            "align_self": null,
            "border": null,
            "bottom": null,
            "display": null,
            "flex": null,
            "flex_flow": null,
            "grid_area": null,
            "grid_auto_columns": null,
            "grid_auto_flow": null,
            "grid_auto_rows": null,
            "grid_column": null,
            "grid_gap": null,
            "grid_row": null,
            "grid_template_areas": null,
            "grid_template_columns": null,
            "grid_template_rows": null,
            "height": null,
            "justify_content": null,
            "justify_items": null,
            "left": null,
            "margin": null,
            "max_height": null,
            "max_width": null,
            "min_height": null,
            "min_width": null,
            "object_fit": null,
            "object_position": null,
            "order": null,
            "overflow": null,
            "overflow_x": null,
            "overflow_y": null,
            "padding": null,
            "right": null,
            "top": null,
            "visibility": null,
            "width": null
          }
        },
        "0bcecb2340774443a716264fc681cfaf": {
          "model_module": "@jupyter-widgets/controls",
          "model_module_version": "1.5.0",
          "model_name": "HTMLModel",
          "state": {
            "_dom_classes": [],
            "_model_module": "@jupyter-widgets/controls",
            "_model_module_version": "1.5.0",
            "_model_name": "HTMLModel",
            "_view_count": null,
            "_view_module": "@jupyter-widgets/controls",
            "_view_module_version": "1.5.0",
            "_view_name": "HTMLView",
            "description": "",
            "description_tooltip": null,
            "layout": "IPY_MODEL_d4c5c216e9ea44faa3620957e070e607",
            "placeholder": "​",
            "style": "IPY_MODEL_7470c61ec36c4276b6afe59111abe87f",
            "value": " 40456/40456 [00:00&lt;00:00, 555062.29it/s]"
          }
        },
        "1465da087ad74a619fc1ee5e0aebac7f": {
          "model_module": "@jupyter-widgets/controls",
          "model_module_version": "1.5.0",
          "model_name": "FloatProgressModel",
          "state": {
            "_dom_classes": [],
            "_model_module": "@jupyter-widgets/controls",
            "_model_module_version": "1.5.0",
            "_model_name": "FloatProgressModel",
            "_view_count": null,
            "_view_module": "@jupyter-widgets/controls",
            "_view_module_version": "1.5.0",
            "_view_name": "ProgressView",
            "bar_style": "success",
            "description": "",
            "description_tooltip": null,
            "layout": "IPY_MODEL_a81321ebafd34d50b20bda6eee44d392",
            "max": 810,
            "min": 0,
            "orientation": "horizontal",
            "style": "IPY_MODEL_a93512a0f2144b3c8436224020f534b4",
            "value": 810
          }
        },
        "20d8c175bc9c4df6921351512534e6b5": {
          "model_module": "@jupyter-widgets/controls",
          "model_module_version": "1.5.0",
          "model_name": "FloatProgressModel",
          "state": {
            "_dom_classes": [],
            "_model_module": "@jupyter-widgets/controls",
            "_model_module_version": "1.5.0",
            "_model_name": "FloatProgressModel",
            "_view_count": null,
            "_view_module": "@jupyter-widgets/controls",
            "_view_module_version": "1.5.0",
            "_view_name": "ProgressView",
            "bar_style": "success",
            "description": "",
            "description_tooltip": null,
            "layout": "IPY_MODEL_859c63b4926f46668293bf806eb90452",
            "max": 40456,
            "min": 0,
            "orientation": "horizontal",
            "style": "IPY_MODEL_ea2489ab44a3438a96fb7131b0c1805e",
            "value": 40456
          }
        },
        "2227990ba57b4449ab8f9171385b58ab": {
          "model_module": "@jupyter-widgets/controls",
          "model_module_version": "1.5.0",
          "model_name": "HBoxModel",
          "state": {
            "_dom_classes": [],
            "_model_module": "@jupyter-widgets/controls",
            "_model_module_version": "1.5.0",
            "_model_name": "HBoxModel",
            "_view_count": null,
            "_view_module": "@jupyter-widgets/controls",
            "_view_module_version": "1.5.0",
            "_view_name": "HBoxView",
            "box_style": "",
            "children": [
              "IPY_MODEL_f10ef2cf6ed248c5afa8bcbb41f2d7ee",
              "IPY_MODEL_20d8c175bc9c4df6921351512534e6b5",
              "IPY_MODEL_0bcecb2340774443a716264fc681cfaf"
            ],
            "layout": "IPY_MODEL_3cf499481b4e49539930a05edd8fd949"
          }
        },
        "2a92cf5bc70b46fd9e5488a2df3fc18a": {
          "model_module": "@jupyter-widgets/base",
          "model_module_version": "1.2.0",
          "model_name": "LayoutModel",
          "state": {
            "_model_module": "@jupyter-widgets/base",
            "_model_module_version": "1.2.0",
            "_model_name": "LayoutModel",
            "_view_count": null,
            "_view_module": "@jupyter-widgets/base",
            "_view_module_version": "1.2.0",
            "_view_name": "LayoutView",
            "align_content": null,
            "align_items": null,
            "align_self": null,
            "border": null,
            "bottom": null,
            "display": null,
            "flex": null,
            "flex_flow": null,
            "grid_area": null,
            "grid_auto_columns": null,
            "grid_auto_flow": null,
            "grid_auto_rows": null,
            "grid_column": null,
            "grid_gap": null,
            "grid_row": null,
            "grid_template_areas": null,
            "grid_template_columns": null,
            "grid_template_rows": null,
            "height": null,
            "justify_content": null,
            "justify_items": null,
            "left": null,
            "margin": null,
            "max_height": null,
            "max_width": null,
            "min_height": null,
            "min_width": null,
            "object_fit": null,
            "object_position": null,
            "order": null,
            "overflow": null,
            "overflow_x": null,
            "overflow_y": null,
            "padding": null,
            "right": null,
            "top": null,
            "visibility": null,
            "width": null
          }
        },
        "35734068a5b74dcc8629ba93c3767cc6": {
          "model_module": "@jupyter-widgets/controls",
          "model_module_version": "1.5.0",
          "model_name": "HTMLModel",
          "state": {
            "_dom_classes": [],
            "_model_module": "@jupyter-widgets/controls",
            "_model_module_version": "1.5.0",
            "_model_name": "HTMLModel",
            "_view_count": null,
            "_view_module": "@jupyter-widgets/controls",
            "_view_module_version": "1.5.0",
            "_view_name": "HTMLView",
            "description": "",
            "description_tooltip": null,
            "layout": "IPY_MODEL_e17c9bf47bfa494ab8c7e0f09d294da2",
            "placeholder": "​",
            "style": "IPY_MODEL_76fd4e105f68418da37d9136028dc60c",
            "value": " 810/810 [09:45&lt;00:00,  1.42it/s]"
          }
        },
        "368e54e530924d1a84c1c6b5a8fdb85c": {
          "model_module": "@jupyter-widgets/controls",
          "model_module_version": "1.5.0",
          "model_name": "DescriptionStyleModel",
          "state": {
            "_model_module": "@jupyter-widgets/controls",
            "_model_module_version": "1.5.0",
            "_model_name": "DescriptionStyleModel",
            "_view_count": null,
            "_view_module": "@jupyter-widgets/base",
            "_view_module_version": "1.2.0",
            "_view_name": "StyleView",
            "description_width": ""
          }
        },
        "3cf499481b4e49539930a05edd8fd949": {
          "model_module": "@jupyter-widgets/base",
          "model_module_version": "1.2.0",
          "model_name": "LayoutModel",
          "state": {
            "_model_module": "@jupyter-widgets/base",
            "_model_module_version": "1.2.0",
            "_model_name": "LayoutModel",
            "_view_count": null,
            "_view_module": "@jupyter-widgets/base",
            "_view_module_version": "1.2.0",
            "_view_name": "LayoutView",
            "align_content": null,
            "align_items": null,
            "align_self": null,
            "border": null,
            "bottom": null,
            "display": null,
            "flex": null,
            "flex_flow": null,
            "grid_area": null,
            "grid_auto_columns": null,
            "grid_auto_flow": null,
            "grid_auto_rows": null,
            "grid_column": null,
            "grid_gap": null,
            "grid_row": null,
            "grid_template_areas": null,
            "grid_template_columns": null,
            "grid_template_rows": null,
            "height": null,
            "justify_content": null,
            "justify_items": null,
            "left": null,
            "margin": null,
            "max_height": null,
            "max_width": null,
            "min_height": null,
            "min_width": null,
            "object_fit": null,
            "object_position": null,
            "order": null,
            "overflow": null,
            "overflow_x": null,
            "overflow_y": null,
            "padding": null,
            "right": null,
            "top": null,
            "visibility": null,
            "width": null
          }
        },
        "4dea92f4241244b18277c33df1e65258": {
          "model_module": "@jupyter-widgets/controls",
          "model_module_version": "1.5.0",
          "model_name": "DescriptionStyleModel",
          "state": {
            "_model_module": "@jupyter-widgets/controls",
            "_model_module_version": "1.5.0",
            "_model_name": "DescriptionStyleModel",
            "_view_count": null,
            "_view_module": "@jupyter-widgets/base",
            "_view_module_version": "1.2.0",
            "_view_name": "StyleView",
            "description_width": ""
          }
        },
        "5a75b80d38c543a2bfdb9dd346e6bb8a": {
          "model_module": "@jupyter-widgets/controls",
          "model_module_version": "1.5.0",
          "model_name": "HTMLModel",
          "state": {
            "_dom_classes": [],
            "_model_module": "@jupyter-widgets/controls",
            "_model_module_version": "1.5.0",
            "_model_name": "HTMLModel",
            "_view_count": null,
            "_view_module": "@jupyter-widgets/controls",
            "_view_module_version": "1.5.0",
            "_view_name": "HTMLView",
            "description": "",
            "description_tooltip": null,
            "layout": "IPY_MODEL_d6b28c55bca54ea3866df3ffa5dc5fc6",
            "placeholder": "​",
            "style": "IPY_MODEL_ff06df26d65c4dd3bfa0e7a8665c5532",
            "value": "100%"
          }
        },
        "69ddeaf87d10468da81e7d337eed39bc": {
          "model_module": "@jupyter-widgets/controls",
          "model_module_version": "1.5.0",
          "model_name": "DescriptionStyleModel",
          "state": {
            "_model_module": "@jupyter-widgets/controls",
            "_model_module_version": "1.5.0",
            "_model_name": "DescriptionStyleModel",
            "_view_count": null,
            "_view_module": "@jupyter-widgets/base",
            "_view_module_version": "1.2.0",
            "_view_name": "StyleView",
            "description_width": ""
          }
        },
        "7470c61ec36c4276b6afe59111abe87f": {
          "model_module": "@jupyter-widgets/controls",
          "model_module_version": "1.5.0",
          "model_name": "DescriptionStyleModel",
          "state": {
            "_model_module": "@jupyter-widgets/controls",
            "_model_module_version": "1.5.0",
            "_model_name": "DescriptionStyleModel",
            "_view_count": null,
            "_view_module": "@jupyter-widgets/base",
            "_view_module_version": "1.2.0",
            "_view_name": "StyleView",
            "description_width": ""
          }
        },
        "7646bd117e1946828fdc7e312edf4908": {
          "model_module": "@jupyter-widgets/controls",
          "model_module_version": "1.5.0",
          "model_name": "HTMLModel",
          "state": {
            "_dom_classes": [],
            "_model_module": "@jupyter-widgets/controls",
            "_model_module_version": "1.5.0",
            "_model_name": "HTMLModel",
            "_view_count": null,
            "_view_module": "@jupyter-widgets/controls",
            "_view_module_version": "1.5.0",
            "_view_name": "HTMLView",
            "description": "",
            "description_tooltip": null,
            "layout": "IPY_MODEL_d464e09bb2bc4d94b656b111ddfee1ca",
            "placeholder": "​",
            "style": "IPY_MODEL_4dea92f4241244b18277c33df1e65258",
            "value": " 8091/8091 [12:51&lt;00:00, 12.14it/s]"
          }
        },
        "76fd4e105f68418da37d9136028dc60c": {
          "model_module": "@jupyter-widgets/controls",
          "model_module_version": "1.5.0",
          "model_name": "DescriptionStyleModel",
          "state": {
            "_model_module": "@jupyter-widgets/controls",
            "_model_module_version": "1.5.0",
            "_model_name": "DescriptionStyleModel",
            "_view_count": null,
            "_view_module": "@jupyter-widgets/base",
            "_view_module_version": "1.2.0",
            "_view_name": "StyleView",
            "description_width": ""
          }
        },
        "7ba5d7aaf39e455a861d76398909f586": {
          "model_module": "@jupyter-widgets/base",
          "model_module_version": "1.2.0",
          "model_name": "LayoutModel",
          "state": {
            "_model_module": "@jupyter-widgets/base",
            "_model_module_version": "1.2.0",
            "_model_name": "LayoutModel",
            "_view_count": null,
            "_view_module": "@jupyter-widgets/base",
            "_view_module_version": "1.2.0",
            "_view_name": "LayoutView",
            "align_content": null,
            "align_items": null,
            "align_self": null,
            "border": null,
            "bottom": null,
            "display": null,
            "flex": null,
            "flex_flow": null,
            "grid_area": null,
            "grid_auto_columns": null,
            "grid_auto_flow": null,
            "grid_auto_rows": null,
            "grid_column": null,
            "grid_gap": null,
            "grid_row": null,
            "grid_template_areas": null,
            "grid_template_columns": null,
            "grid_template_rows": null,
            "height": null,
            "justify_content": null,
            "justify_items": null,
            "left": null,
            "margin": null,
            "max_height": null,
            "max_width": null,
            "min_height": null,
            "min_width": null,
            "object_fit": null,
            "object_position": null,
            "order": null,
            "overflow": null,
            "overflow_x": null,
            "overflow_y": null,
            "padding": null,
            "right": null,
            "top": null,
            "visibility": null,
            "width": null
          }
        },
        "859c63b4926f46668293bf806eb90452": {
          "model_module": "@jupyter-widgets/base",
          "model_module_version": "1.2.0",
          "model_name": "LayoutModel",
          "state": {
            "_model_module": "@jupyter-widgets/base",
            "_model_module_version": "1.2.0",
            "_model_name": "LayoutModel",
            "_view_count": null,
            "_view_module": "@jupyter-widgets/base",
            "_view_module_version": "1.2.0",
            "_view_name": "LayoutView",
            "align_content": null,
            "align_items": null,
            "align_self": null,
            "border": null,
            "bottom": null,
            "display": null,
            "flex": null,
            "flex_flow": null,
            "grid_area": null,
            "grid_auto_columns": null,
            "grid_auto_flow": null,
            "grid_auto_rows": null,
            "grid_column": null,
            "grid_gap": null,
            "grid_row": null,
            "grid_template_areas": null,
            "grid_template_columns": null,
            "grid_template_rows": null,
            "height": null,
            "justify_content": null,
            "justify_items": null,
            "left": null,
            "margin": null,
            "max_height": null,
            "max_width": null,
            "min_height": null,
            "min_width": null,
            "object_fit": null,
            "object_position": null,
            "order": null,
            "overflow": null,
            "overflow_x": null,
            "overflow_y": null,
            "padding": null,
            "right": null,
            "top": null,
            "visibility": null,
            "width": null
          }
        },
        "8c15e8c7192d4ae5acca43d9b5f9a863": {
          "model_module": "@jupyter-widgets/controls",
          "model_module_version": "1.5.0",
          "model_name": "FloatProgressModel",
          "state": {
            "_dom_classes": [],
            "_model_module": "@jupyter-widgets/controls",
            "_model_module_version": "1.5.0",
            "_model_name": "FloatProgressModel",
            "_view_count": null,
            "_view_module": "@jupyter-widgets/controls",
            "_view_module_version": "1.5.0",
            "_view_name": "ProgressView",
            "bar_style": "success",
            "description": "",
            "description_tooltip": null,
            "layout": "IPY_MODEL_079afafebcd84d2a80f3c4d958691faa",
            "max": 8091,
            "min": 0,
            "orientation": "horizontal",
            "style": "IPY_MODEL_e5f37f0a5a174016842b094c6360d1ed",
            "value": 8091
          }
        },
        "a0834ed5a64b4fdba5a7906450ec2c53": {
          "model_module": "@jupyter-widgets/base",
          "model_module_version": "1.2.0",
          "model_name": "LayoutModel",
          "state": {
            "_model_module": "@jupyter-widgets/base",
            "_model_module_version": "1.2.0",
            "_model_name": "LayoutModel",
            "_view_count": null,
            "_view_module": "@jupyter-widgets/base",
            "_view_module_version": "1.2.0",
            "_view_name": "LayoutView",
            "align_content": null,
            "align_items": null,
            "align_self": null,
            "border": null,
            "bottom": null,
            "display": null,
            "flex": null,
            "flex_flow": null,
            "grid_area": null,
            "grid_auto_columns": null,
            "grid_auto_flow": null,
            "grid_auto_rows": null,
            "grid_column": null,
            "grid_gap": null,
            "grid_row": null,
            "grid_template_areas": null,
            "grid_template_columns": null,
            "grid_template_rows": null,
            "height": null,
            "justify_content": null,
            "justify_items": null,
            "left": null,
            "margin": null,
            "max_height": null,
            "max_width": null,
            "min_height": null,
            "min_width": null,
            "object_fit": null,
            "object_position": null,
            "order": null,
            "overflow": null,
            "overflow_x": null,
            "overflow_y": null,
            "padding": null,
            "right": null,
            "top": null,
            "visibility": null,
            "width": null
          }
        },
        "a24dbc341ff940e7a5b7419c4e960ed6": {
          "model_module": "@jupyter-widgets/base",
          "model_module_version": "1.2.0",
          "model_name": "LayoutModel",
          "state": {
            "_model_module": "@jupyter-widgets/base",
            "_model_module_version": "1.2.0",
            "_model_name": "LayoutModel",
            "_view_count": null,
            "_view_module": "@jupyter-widgets/base",
            "_view_module_version": "1.2.0",
            "_view_name": "LayoutView",
            "align_content": null,
            "align_items": null,
            "align_self": null,
            "border": null,
            "bottom": null,
            "display": null,
            "flex": null,
            "flex_flow": null,
            "grid_area": null,
            "grid_auto_columns": null,
            "grid_auto_flow": null,
            "grid_auto_rows": null,
            "grid_column": null,
            "grid_gap": null,
            "grid_row": null,
            "grid_template_areas": null,
            "grid_template_columns": null,
            "grid_template_rows": null,
            "height": null,
            "justify_content": null,
            "justify_items": null,
            "left": null,
            "margin": null,
            "max_height": null,
            "max_width": null,
            "min_height": null,
            "min_width": null,
            "object_fit": null,
            "object_position": null,
            "order": null,
            "overflow": null,
            "overflow_x": null,
            "overflow_y": null,
            "padding": null,
            "right": null,
            "top": null,
            "visibility": null,
            "width": null
          }
        },
        "a81321ebafd34d50b20bda6eee44d392": {
          "model_module": "@jupyter-widgets/base",
          "model_module_version": "1.2.0",
          "model_name": "LayoutModel",
          "state": {
            "_model_module": "@jupyter-widgets/base",
            "_model_module_version": "1.2.0",
            "_model_name": "LayoutModel",
            "_view_count": null,
            "_view_module": "@jupyter-widgets/base",
            "_view_module_version": "1.2.0",
            "_view_name": "LayoutView",
            "align_content": null,
            "align_items": null,
            "align_self": null,
            "border": null,
            "bottom": null,
            "display": null,
            "flex": null,
            "flex_flow": null,
            "grid_area": null,
            "grid_auto_columns": null,
            "grid_auto_flow": null,
            "grid_auto_rows": null,
            "grid_column": null,
            "grid_gap": null,
            "grid_row": null,
            "grid_template_areas": null,
            "grid_template_columns": null,
            "grid_template_rows": null,
            "height": null,
            "justify_content": null,
            "justify_items": null,
            "left": null,
            "margin": null,
            "max_height": null,
            "max_width": null,
            "min_height": null,
            "min_width": null,
            "object_fit": null,
            "object_position": null,
            "order": null,
            "overflow": null,
            "overflow_x": null,
            "overflow_y": null,
            "padding": null,
            "right": null,
            "top": null,
            "visibility": null,
            "width": null
          }
        },
        "a93512a0f2144b3c8436224020f534b4": {
          "model_module": "@jupyter-widgets/controls",
          "model_module_version": "1.5.0",
          "model_name": "ProgressStyleModel",
          "state": {
            "_model_module": "@jupyter-widgets/controls",
            "_model_module_version": "1.5.0",
            "_model_name": "ProgressStyleModel",
            "_view_count": null,
            "_view_module": "@jupyter-widgets/base",
            "_view_module_version": "1.2.0",
            "_view_name": "StyleView",
            "bar_color": null,
            "description_width": ""
          }
        },
        "ce6bd1805a1f467096253a86bcc8f7f6": {
          "model_module": "@jupyter-widgets/controls",
          "model_module_version": "1.5.0",
          "model_name": "HBoxModel",
          "state": {
            "_dom_classes": [],
            "_model_module": "@jupyter-widgets/controls",
            "_model_module_version": "1.5.0",
            "_model_name": "HBoxModel",
            "_view_count": null,
            "_view_module": "@jupyter-widgets/controls",
            "_view_module_version": "1.5.0",
            "_view_name": "HBoxView",
            "box_style": "",
            "children": [
              "IPY_MODEL_ddea4d102c7344dcbf5bda61b344c6e9",
              "IPY_MODEL_1465da087ad74a619fc1ee5e0aebac7f",
              "IPY_MODEL_35734068a5b74dcc8629ba93c3767cc6"
            ],
            "layout": "IPY_MODEL_7ba5d7aaf39e455a861d76398909f586"
          }
        },
        "d464e09bb2bc4d94b656b111ddfee1ca": {
          "model_module": "@jupyter-widgets/base",
          "model_module_version": "1.2.0",
          "model_name": "LayoutModel",
          "state": {
            "_model_module": "@jupyter-widgets/base",
            "_model_module_version": "1.2.0",
            "_model_name": "LayoutModel",
            "_view_count": null,
            "_view_module": "@jupyter-widgets/base",
            "_view_module_version": "1.2.0",
            "_view_name": "LayoutView",
            "align_content": null,
            "align_items": null,
            "align_self": null,
            "border": null,
            "bottom": null,
            "display": null,
            "flex": null,
            "flex_flow": null,
            "grid_area": null,
            "grid_auto_columns": null,
            "grid_auto_flow": null,
            "grid_auto_rows": null,
            "grid_column": null,
            "grid_gap": null,
            "grid_row": null,
            "grid_template_areas": null,
            "grid_template_columns": null,
            "grid_template_rows": null,
            "height": null,
            "justify_content": null,
            "justify_items": null,
            "left": null,
            "margin": null,
            "max_height": null,
            "max_width": null,
            "min_height": null,
            "min_width": null,
            "object_fit": null,
            "object_position": null,
            "order": null,
            "overflow": null,
            "overflow_x": null,
            "overflow_y": null,
            "padding": null,
            "right": null,
            "top": null,
            "visibility": null,
            "width": null
          }
        },
        "d4c5c216e9ea44faa3620957e070e607": {
          "model_module": "@jupyter-widgets/base",
          "model_module_version": "1.2.0",
          "model_name": "LayoutModel",
          "state": {
            "_model_module": "@jupyter-widgets/base",
            "_model_module_version": "1.2.0",
            "_model_name": "LayoutModel",
            "_view_count": null,
            "_view_module": "@jupyter-widgets/base",
            "_view_module_version": "1.2.0",
            "_view_name": "LayoutView",
            "align_content": null,
            "align_items": null,
            "align_self": null,
            "border": null,
            "bottom": null,
            "display": null,
            "flex": null,
            "flex_flow": null,
            "grid_area": null,
            "grid_auto_columns": null,
            "grid_auto_flow": null,
            "grid_auto_rows": null,
            "grid_column": null,
            "grid_gap": null,
            "grid_row": null,
            "grid_template_areas": null,
            "grid_template_columns": null,
            "grid_template_rows": null,
            "height": null,
            "justify_content": null,
            "justify_items": null,
            "left": null,
            "margin": null,
            "max_height": null,
            "max_width": null,
            "min_height": null,
            "min_width": null,
            "object_fit": null,
            "object_position": null,
            "order": null,
            "overflow": null,
            "overflow_x": null,
            "overflow_y": null,
            "padding": null,
            "right": null,
            "top": null,
            "visibility": null,
            "width": null
          }
        },
        "d6b28c55bca54ea3866df3ffa5dc5fc6": {
          "model_module": "@jupyter-widgets/base",
          "model_module_version": "1.2.0",
          "model_name": "LayoutModel",
          "state": {
            "_model_module": "@jupyter-widgets/base",
            "_model_module_version": "1.2.0",
            "_model_name": "LayoutModel",
            "_view_count": null,
            "_view_module": "@jupyter-widgets/base",
            "_view_module_version": "1.2.0",
            "_view_name": "LayoutView",
            "align_content": null,
            "align_items": null,
            "align_self": null,
            "border": null,
            "bottom": null,
            "display": null,
            "flex": null,
            "flex_flow": null,
            "grid_area": null,
            "grid_auto_columns": null,
            "grid_auto_flow": null,
            "grid_auto_rows": null,
            "grid_column": null,
            "grid_gap": null,
            "grid_row": null,
            "grid_template_areas": null,
            "grid_template_columns": null,
            "grid_template_rows": null,
            "height": null,
            "justify_content": null,
            "justify_items": null,
            "left": null,
            "margin": null,
            "max_height": null,
            "max_width": null,
            "min_height": null,
            "min_width": null,
            "object_fit": null,
            "object_position": null,
            "order": null,
            "overflow": null,
            "overflow_x": null,
            "overflow_y": null,
            "padding": null,
            "right": null,
            "top": null,
            "visibility": null,
            "width": null
          }
        },
        "ddea4d102c7344dcbf5bda61b344c6e9": {
          "model_module": "@jupyter-widgets/controls",
          "model_module_version": "1.5.0",
          "model_name": "HTMLModel",
          "state": {
            "_dom_classes": [],
            "_model_module": "@jupyter-widgets/controls",
            "_model_module_version": "1.5.0",
            "_model_name": "HTMLModel",
            "_view_count": null,
            "_view_module": "@jupyter-widgets/controls",
            "_view_module_version": "1.5.0",
            "_view_name": "HTMLView",
            "description": "",
            "description_tooltip": null,
            "layout": "IPY_MODEL_2a92cf5bc70b46fd9e5488a2df3fc18a",
            "placeholder": "​",
            "style": "IPY_MODEL_368e54e530924d1a84c1c6b5a8fdb85c",
            "value": "100%"
          }
        },
        "e17c9bf47bfa494ab8c7e0f09d294da2": {
          "model_module": "@jupyter-widgets/base",
          "model_module_version": "1.2.0",
          "model_name": "LayoutModel",
          "state": {
            "_model_module": "@jupyter-widgets/base",
            "_model_module_version": "1.2.0",
            "_model_name": "LayoutModel",
            "_view_count": null,
            "_view_module": "@jupyter-widgets/base",
            "_view_module_version": "1.2.0",
            "_view_name": "LayoutView",
            "align_content": null,
            "align_items": null,
            "align_self": null,
            "border": null,
            "bottom": null,
            "display": null,
            "flex": null,
            "flex_flow": null,
            "grid_area": null,
            "grid_auto_columns": null,
            "grid_auto_flow": null,
            "grid_auto_rows": null,
            "grid_column": null,
            "grid_gap": null,
            "grid_row": null,
            "grid_template_areas": null,
            "grid_template_columns": null,
            "grid_template_rows": null,
            "height": null,
            "justify_content": null,
            "justify_items": null,
            "left": null,
            "margin": null,
            "max_height": null,
            "max_width": null,
            "min_height": null,
            "min_width": null,
            "object_fit": null,
            "object_position": null,
            "order": null,
            "overflow": null,
            "overflow_x": null,
            "overflow_y": null,
            "padding": null,
            "right": null,
            "top": null,
            "visibility": null,
            "width": null
          }
        },
        "e5f37f0a5a174016842b094c6360d1ed": {
          "model_module": "@jupyter-widgets/controls",
          "model_module_version": "1.5.0",
          "model_name": "ProgressStyleModel",
          "state": {
            "_model_module": "@jupyter-widgets/controls",
            "_model_module_version": "1.5.0",
            "_model_name": "ProgressStyleModel",
            "_view_count": null,
            "_view_module": "@jupyter-widgets/base",
            "_view_module_version": "1.2.0",
            "_view_name": "StyleView",
            "bar_color": null,
            "description_width": ""
          }
        },
        "ea2489ab44a3438a96fb7131b0c1805e": {
          "model_module": "@jupyter-widgets/controls",
          "model_module_version": "1.5.0",
          "model_name": "ProgressStyleModel",
          "state": {
            "_model_module": "@jupyter-widgets/controls",
            "_model_module_version": "1.5.0",
            "_model_name": "ProgressStyleModel",
            "_view_count": null,
            "_view_module": "@jupyter-widgets/base",
            "_view_module_version": "1.2.0",
            "_view_name": "StyleView",
            "bar_color": null,
            "description_width": ""
          }
        },
        "ef415ba7bbfd45b290a463dc232d03c7": {
          "model_module": "@jupyter-widgets/controls",
          "model_module_version": "1.5.0",
          "model_name": "HBoxModel",
          "state": {
            "_dom_classes": [],
            "_model_module": "@jupyter-widgets/controls",
            "_model_module_version": "1.5.0",
            "_model_name": "HBoxModel",
            "_view_count": null,
            "_view_module": "@jupyter-widgets/controls",
            "_view_module_version": "1.5.0",
            "_view_name": "HBoxView",
            "box_style": "",
            "children": [
              "IPY_MODEL_5a75b80d38c543a2bfdb9dd346e6bb8a",
              "IPY_MODEL_8c15e8c7192d4ae5acca43d9b5f9a863",
              "IPY_MODEL_7646bd117e1946828fdc7e312edf4908"
            ],
            "layout": "IPY_MODEL_a0834ed5a64b4fdba5a7906450ec2c53"
          }
        },
        "f10ef2cf6ed248c5afa8bcbb41f2d7ee": {
          "model_module": "@jupyter-widgets/controls",
          "model_module_version": "1.5.0",
          "model_name": "HTMLModel",
          "state": {
            "_dom_classes": [],
            "_model_module": "@jupyter-widgets/controls",
            "_model_module_version": "1.5.0",
            "_model_name": "HTMLModel",
            "_view_count": null,
            "_view_module": "@jupyter-widgets/controls",
            "_view_module_version": "1.5.0",
            "_view_name": "HTMLView",
            "description": "",
            "description_tooltip": null,
            "layout": "IPY_MODEL_a24dbc341ff940e7a5b7419c4e960ed6",
            "placeholder": "​",
            "style": "IPY_MODEL_69ddeaf87d10468da81e7d337eed39bc",
            "value": "100%"
          }
        },
        "ff06df26d65c4dd3bfa0e7a8665c5532": {
          "model_module": "@jupyter-widgets/controls",
          "model_module_version": "1.5.0",
          "model_name": "DescriptionStyleModel",
          "state": {
            "_model_module": "@jupyter-widgets/controls",
            "_model_module_version": "1.5.0",
            "_model_name": "DescriptionStyleModel",
            "_view_count": null,
            "_view_module": "@jupyter-widgets/base",
            "_view_module_version": "1.2.0",
            "_view_name": "StyleView",
            "description_width": ""
          }
        }
      }
    }
  },
  "nbformat": 4,
  "nbformat_minor": 0
}
