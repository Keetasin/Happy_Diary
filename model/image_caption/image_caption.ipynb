{
 "cells": [
  {
   "cell_type": "markdown",
   "metadata": {
    "id": "Iq_7W3dRpUCi"
   },
   "source": [
    "# Image Captioning"
   ]
  },
  {
   "cell_type": "markdown",
   "metadata": {
    "id": "j6dXATtypbSD"
   },
   "source": [
    "# Import necessary modules"
   ]
  },
  {
   "cell_type": "code",
   "execution_count": null,
   "metadata": {
    "id": "UiqualubpFQr"
   },
   "outputs": [],
   "source": [
    "# Basic libraries\n",
    "import os\n",
    "import pickle\n",
    "import numpy as np\n",
    "import matplotlib.pyplot as plt\n",
    "from PIL import Image\n",
    "import warnings\n",
    "warnings.filterwarnings('ignore')\n",
    "from math import ceil\n",
    "from collections import defaultdict\n",
    "from tqdm.notebook import tqdm        # Progress bar library for Jupyter Notebook\n",
    "\n",
    "# Deep learning framework for building and training models\n",
    "import tensorflow as tf\n",
    "## Pre-trained model for image feature extraction\n",
    "from tensorflow.keras.applications.vgg16 import VGG16, preprocess_input\n",
    "from tensorflow.keras.preprocessing.image import load_img, img_to_array\n",
    "\n",
    "## Tokenizer class for captions tokenization\n",
    "from tensorflow.keras.preprocessing.text import Tokenizer\n",
    "\n",
    "## Function for padding sequences to a specific length\n",
    "from tensorflow.keras.preprocessing.sequence import pad_sequences\n",
    "\n",
    "## Class for defining Keras models\n",
    "from tensorflow.keras.models import Model\n",
    "from tensorflow.keras.utils import to_categorical, plot_model\n",
    "from tensorflow.keras.layers import Input, Dense, LSTM, Embedding, Dropout, concatenate, Bidirectional, Dot, Activation, RepeatVector, Multiply, Lambda\n",
    "\n",
    "# For checking score\n",
    "from nltk.translate.bleu_score import corpus_bleu\n"
   ]
  },
  {
   "cell_type": "code",
   "execution_count": null,
   "metadata": {
    "colab": {
     "base_uri": "https://localhost:8080/"
    },
    "collapsed": true,
    "executionInfo": {
     "elapsed": 62877,
     "status": "ok",
     "timestamp": 1740071843671,
     "user": {
      "displayName": "Keetasin Kongsee",
      "userId": "16591596247660632261"
     },
     "user_tz": -420
    },
    "id": "DZlqEzetCyK4",
    "outputId": "9be62e3d-bb7b-4906-b28a-82fef72498a8"
   },
   "outputs": [],
   "source": [
    "!pip install kaggle\n",
    "!mkdir -p ~/.kaggle\n",
    "!cp kaggle.json ~/.kaggle/\n",
    "!chmod 600 ~/.kaggle/kaggle.json\n",
    "!kaggle datasets download -d adityajn105/flickr8k\n",
    "!unzip flickr8k.zip"
   ]
  },
  {
   "cell_type": "code",
   "execution_count": null,
   "metadata": {
    "id": "okpw4k4ExHxp"
   },
   "outputs": [],
   "source": [
    "INPUT_DIR = '/content'\n",
    "OUTPUT_DIR = '/content'"
   ]
  },
  {
   "cell_type": "markdown",
   "metadata": {
    "id": "Z5RAiJpupmox"
   },
   "source": [
    "# Image Features Extraction"
   ]
  },
  {
   "cell_type": "code",
   "execution_count": null,
   "metadata": {
    "colab": {
     "base_uri": "https://localhost:8080/",
     "height": 888
    },
    "executionInfo": {
     "elapsed": 32831,
     "status": "ok",
     "timestamp": 1740071876600,
     "user": {
      "displayName": "Keetasin Kongsee",
      "userId": "16591596247660632261"
     },
     "user_tz": -420
    },
    "id": "VuK4GFt-xKN9",
    "outputId": "683ab49a-6d30-4028-da48-12b9305d712b"
   },
   "outputs": [],
   "source": [
    "# We are going to use pretraind vgg model\n",
    "# Load the vgg16 model\n",
    "model = VGG16()\n",
    "\n",
    "# Restructuring the model to remove the last classification layer, this will give us access to the output features of the model\n",
    "model = Model(inputs=model.inputs, outputs=model.layers[-2].output)\n",
    "\n",
    "# Printing the model summary\n",
    "print(model.summary())"
   ]
  },
  {
   "cell_type": "code",
   "execution_count": null,
   "metadata": {
    "colab": {
     "base_uri": "https://localhost:8080/",
     "height": 49,
     "referenced_widgets": [
      "b19d78aafa304acfb4461c627aed7b81",
      "e98a4956b2aa4994804fc4b6a98e451f",
      "1959f08381db445db22b0408ce23bc76",
      "3d27294a3ea2428aa8cc8e1caa031b7b",
      "0b0fa839d0314dcd9079d2bf0619c49b",
      "a0cef950a66d48639bdeab316cea6a98",
      "34c5a4dec36a4f62af26e1a31fdf8f8c",
      "da9780e0505b447998ae56c7e5716198",
      "0b102aa55ee941259fbb1620ac243397",
      "e5b8769d9fb6448fb240c03118fba1bc",
      "44a9cabd98ca44a68a8d0c19f3128ca6"
     ]
    },
    "executionInfo": {
     "elapsed": 776970,
     "status": "ok",
     "timestamp": 1740072653572,
     "user": {
      "displayName": "Keetasin Kongsee",
      "userId": "16591596247660632261"
     },
     "user_tz": -420
    },
    "id": "plYzDe1xxR23",
    "outputId": "00ff5b4b-367f-49e5-87f7-9d7226c1faec"
   },
   "outputs": [],
   "source": [
    "# Initialize an empty dictionary to store image features\n",
    "image_features = {}\n",
    "\n",
    "# Define the directory path where images are located\n",
    "img_dir = os.path.join(INPUT_DIR, 'Images')\n",
    "\n",
    "# Loop through each image in the directory\n",
    "for img_name in tqdm(os.listdir(img_dir)):\n",
    "    # Load the image from file\n",
    "    img_path = os.path.join(img_dir, img_name)\n",
    "    image = load_img(img_path, target_size=(224, 224))\n",
    "    # Convert image pixels to a numpy array\n",
    "    image = img_to_array(image)\n",
    "    # Reshape the data for the model\n",
    "    image = image.reshape((1, image.shape[0], image.shape[1], image.shape[2]))\n",
    "    # Preprocess the image for ResNet50\n",
    "    image = preprocess_input(image)\n",
    "    # Extract features using the pre-trained ResNet50 model\n",
    "    image_feature = model.predict(image, verbose=0)\n",
    "    # Get the image ID by removing the file extension\n",
    "    image_id = img_name.split('.')[0]\n",
    "    # Store the extracted feature in the dictionary with the image ID as the key\n",
    "    image_features[image_id] = image_feature"
   ]
  },
  {
   "cell_type": "code",
   "execution_count": null,
   "metadata": {
    "id": "NrgJMDYnukZF"
   },
   "outputs": [],
   "source": [
    "# Store the image features in pickle\n",
    "pickle.dump(image_features, open(os.path.join(OUTPUT_DIR, 'img_features.pkl'), 'wb'))"
   ]
  },
  {
   "cell_type": "code",
   "execution_count": null,
   "metadata": {
    "id": "qz9to2VPuq6Y"
   },
   "outputs": [],
   "source": [
    "# Load features from pickle file\n",
    "pickle_file_path = os.path.join(OUTPUT_DIR, 'img_features.pkl')\n",
    "with open(pickle_file_path, 'rb') as file:\n",
    "    loaded_features = pickle.load(file)"
   ]
  },
  {
   "cell_type": "markdown",
   "metadata": {
    "id": "Ej8aVXdvp-FA"
   },
   "source": [
    "# Loading Caption Data"
   ]
  },
  {
   "cell_type": "code",
   "execution_count": null,
   "metadata": {
    "id": "lckfIiu9uvmo"
   },
   "outputs": [],
   "source": [
    "with open(os.path.join(INPUT_DIR, 'captions.txt'), 'r') as file:\n",
    "    next(file)\n",
    "    captions_doc = file.read()"
   ]
  },
  {
   "cell_type": "code",
   "execution_count": null,
   "metadata": {
    "colab": {
     "base_uri": "https://localhost:8080/",
     "height": 67,
     "referenced_widgets": [
      "ca41733028e14b66ad157f971b61eaa7",
      "1f866d7d1ee94480b5d439338aebc289",
      "dc32d1c02c874ca680df418986f5cd6a",
      "747539c7a58a413ca99eaa355464f606",
      "fdece24cfa164ca5a8262c6444f66c37",
      "dd85a972bf524681b551fa2fe4714186",
      "8c83448523244e0bb726d01ad9d25a0a",
      "a0ecf93aa99f4effa37922301138ab49",
      "fbeebb1b3d72457eabba63c1eb4a44d8",
      "3bafa3d3f1a9437db340b19a3ee29bcf",
      "66a4e639b15c4a8ab82ab0aa9c559c47"
     ]
    },
    "executionInfo": {
     "elapsed": 2489,
     "status": "ok",
     "timestamp": 1740072656466,
     "user": {
      "displayName": "Keetasin Kongsee",
      "userId": "16591596247660632261"
     },
     "user_tz": -420
    },
    "id": "LVUhf86muyzy",
    "outputId": "84c20299-b361-42c4-bc70-98d9e31e10cc"
   },
   "outputs": [],
   "source": [
    "# Create mapping of image to captions\n",
    "image_to_captions_mapping = defaultdict(list)\n",
    "\n",
    "# Process lines from captions_doc\n",
    "for line in tqdm(captions_doc.split('\\n')):\n",
    "    # Split the line by comma(,)\n",
    "    tokens = line.split(',')\n",
    "    if len(tokens) < 2:\n",
    "        continue\n",
    "    image_id, *captions = tokens\n",
    "    # Remove extension from image ID\n",
    "    image_id = image_id.split('.')[0]\n",
    "    # Convert captions list to string\n",
    "    caption = \" \".join(captions)\n",
    "    # Store the caption using defaultdict\n",
    "    image_to_captions_mapping[image_id].append(caption)\n",
    "\n",
    "# Print the total number of captions\n",
    "total_captions = sum(len(captions) for captions in image_to_captions_mapping.values())\n",
    "print(\"Total number of captions:\", total_captions)"
   ]
  },
  {
   "cell_type": "markdown",
   "metadata": {
    "id": "S8BcJc36qJ0j"
   },
   "source": [
    "# Preprocessing Captions: Getting Them Ready"
   ]
  },
  {
   "cell_type": "code",
   "execution_count": null,
   "metadata": {
    "id": "CXdREkYmu1iX"
   },
   "outputs": [],
   "source": [
    "# Function for processing the captions\n",
    "def clean(mapping):\n",
    "    for key, captions in mapping.items():\n",
    "        for i in range(len(captions)):\n",
    "            # Take one caption at a time\n",
    "            caption = captions[i]\n",
    "            # Preprocessing steps\n",
    "            # Convert to lowercase\n",
    "            caption = caption.lower()\n",
    "            # Remove non-alphabetical characters\n",
    "            caption = ''.join(char for char in caption if char.isalpha() or char.isspace())\n",
    "            # Remove extra spaces\n",
    "            caption = caption.replace('\\s+', ' ')\n",
    "            # Add unique start and end tokens to the caption\n",
    "            caption = 'startseq ' + ' '.join([word for word in caption.split() if len(word) > 1]) + ' endseq'\n",
    "            captions[i] = caption"
   ]
  },
  {
   "cell_type": "code",
   "execution_count": null,
   "metadata": {
    "colab": {
     "base_uri": "https://localhost:8080/"
    },
    "executionInfo": {
     "elapsed": 9,
     "status": "ok",
     "timestamp": 1740072656498,
     "user": {
      "displayName": "Keetasin Kongsee",
      "userId": "16591596247660632261"
     },
     "user_tz": -420
    },
    "id": "6HJFd5RRu2j0",
    "outputId": "4c026ead-140d-47cd-f4f8-1270ca05de0b"
   },
   "outputs": [],
   "source": [
    "# before preprocess of text\n",
    "image_to_captions_mapping['1026685415_0431cbf574']"
   ]
  },
  {
   "cell_type": "code",
   "execution_count": null,
   "metadata": {
    "id": "K-hH5eyZu5Vw"
   },
   "outputs": [],
   "source": [
    "# preprocess the text\n",
    "clean(image_to_captions_mapping)"
   ]
  },
  {
   "cell_type": "code",
   "execution_count": null,
   "metadata": {
    "colab": {
     "base_uri": "https://localhost:8080/"
    },
    "executionInfo": {
     "elapsed": 4,
     "status": "ok",
     "timestamp": 1740072656503,
     "user": {
      "displayName": "Keetasin Kongsee",
      "userId": "16591596247660632261"
     },
     "user_tz": -420
    },
    "id": "_6nKt3EEu7Yl",
    "outputId": "add1852d-2253-4816-86ee-1003bf6eaa57"
   },
   "outputs": [],
   "source": [
    "# after preprocess of text\n",
    "image_to_captions_mapping['1026685415_0431cbf574']"
   ]
  },
  {
   "cell_type": "code",
   "execution_count": null,
   "metadata": {
    "id": "jCMG-sx9u9Mc"
   },
   "outputs": [],
   "source": [
    "# Creating a List of All Captions\n",
    "all_captions = [caption for captions in image_to_captions_mapping.values() for caption in captions]"
   ]
  },
  {
   "cell_type": "code",
   "execution_count": null,
   "metadata": {
    "colab": {
     "base_uri": "https://localhost:8080/"
    },
    "executionInfo": {
     "elapsed": 4,
     "status": "ok",
     "timestamp": 1740072656509,
     "user": {
      "displayName": "Keetasin Kongsee",
      "userId": "16591596247660632261"
     },
     "user_tz": -420
    },
    "id": "tISEeEDVvPVJ",
    "outputId": "b776e0f9-1ddd-4391-c23d-a60ea64e456c"
   },
   "outputs": [],
   "source": [
    "all_captions[:10]"
   ]
  },
  {
   "cell_type": "code",
   "execution_count": null,
   "metadata": {
    "id": "WiR4GHaHvQ8_"
   },
   "outputs": [],
   "source": [
    "# Tokenizing the Text\n",
    "tokenizer = Tokenizer()\n",
    "tokenizer.fit_on_texts(all_captions)"
   ]
  },
  {
   "cell_type": "code",
   "execution_count": null,
   "metadata": {
    "id": "-_MKACDxvTSY"
   },
   "outputs": [],
   "source": [
    "# Save the tokenizer\n",
    "with open('tokenizer.pkl', 'wb') as tokenizer_file:\n",
    "    pickle.dump(tokenizer, tokenizer_file)\n",
    "\n",
    "# Load the tokenizer\n",
    "with open('tokenizer.pkl', 'rb') as tokenizer_file:\n",
    "    tokenizer = pickle.load(tokenizer_file)"
   ]
  },
  {
   "cell_type": "code",
   "execution_count": null,
   "metadata": {
    "colab": {
     "base_uri": "https://localhost:8080/"
    },
    "executionInfo": {
     "elapsed": 4,
     "status": "ok",
     "timestamp": 1740072656516,
     "user": {
      "displayName": "Keetasin Kongsee",
      "userId": "16591596247660632261"
     },
     "user_tz": -420
    },
    "id": "zXabrCdbvU3D",
    "outputId": "e813c106-e18f-4f82-88eb-ba2394625dd6"
   },
   "outputs": [],
   "source": [
    "# Calculate maximum caption length\n",
    "max_caption_length = max(len(tokenizer.texts_to_sequences([caption])[0]) for caption in all_captions)\n",
    "vocab_size = len(tokenizer.word_index) + 1\n",
    "\n",
    "# Print the results\n",
    "print(\"Vocabulary Size:\", vocab_size)\n",
    "print(\"Maximum Caption Length:\", max_caption_length)"
   ]
  },
  {
   "cell_type": "markdown",
   "metadata": {
    "id": "bSrfMgMeqQy4"
   },
   "source": [
    "# Train Test Split"
   ]
  },
  {
   "cell_type": "code",
   "execution_count": null,
   "metadata": {
    "id": "e3hOwGDwvW68"
   },
   "outputs": [],
   "source": [
    "# Creating a List of Image IDs\n",
    "image_ids = list(image_to_captions_mapping.keys())\n",
    "# Splitting into Training and Test Sets\n",
    "split = int(len(image_ids) * 0.90)\n",
    "train = image_ids[:split]\n",
    "test = image_ids[split:]"
   ]
  },
  {
   "cell_type": "code",
   "execution_count": null,
   "metadata": {
    "id": "Cbx4ozAsvcRv"
   },
   "outputs": [],
   "source": [
    "\n",
    "def data_generator(data_keys, image_to_captions_mapping, features, tokenizer, max_caption_length, vocab_size, batch_size):\n",
    "    while True:\n",
    "        X1_batch, X2_batch, y_batch = [], [], []\n",
    "        batch_count = 0\n",
    "\n",
    "        for image_id in data_keys:\n",
    "            captions = image_to_captions_mapping[image_id]\n",
    "\n",
    "            for caption in captions:\n",
    "                caption_seq = tokenizer.texts_to_sequences([caption])[0]\n",
    "\n",
    "                for i in range(1, len(caption_seq)):\n",
    "                    in_seq, out_seq = caption_seq[:i], caption_seq[i]\n",
    "                    in_seq = pad_sequences([in_seq], maxlen=max_caption_length, padding='post')[0]\n",
    "                    out_seq = to_categorical([out_seq], num_classes=vocab_size)[0]\n",
    "\n",
    "                    X1_batch.append(features[image_id][0])\n",
    "                    X2_batch.append(in_seq)\n",
    "                    y_batch.append(out_seq)\n",
    "\n",
    "                    batch_count += 1\n",
    "\n",
    "                    if batch_count == batch_size:\n",
    "                        yield (np.array(X1_batch), np.array(X2_batch)), np.array(y_batch)\n",
    "                        X1_batch, X2_batch, y_batch = [], [], []\n",
    "                        batch_count = 0\n"
   ]
  },
  {
   "cell_type": "markdown",
   "metadata": {
    "id": "c7tI0ytOqVKA"
   },
   "source": [
    "# LSTM Model Training"
   ]
  },
  {
   "cell_type": "code",
   "execution_count": null,
   "metadata": {
    "colab": {
     "base_uri": "https://localhost:8080/",
     "height": 1000
    },
    "collapsed": true,
    "executionInfo": {
     "elapsed": 1797,
     "status": "ok",
     "timestamp": 1740074211329,
     "user": {
      "displayName": "Keetasin Kongsee",
      "userId": "16591596247660632261"
     },
     "user_tz": -420
    },
    "id": "i_GCyufsTTtc",
    "outputId": "a30c8821-445a-4558-fb5c-09364717f2e1"
   },
   "outputs": [],
   "source": [
    "from tensorflow.keras.layers import Concatenate, Permute, Flatten\n",
    "\n",
    "# Input image features\n",
    "inputs1 = Input(shape=(4096,))\n",
    "fe1 = Dropout(0.5, name=\"image_dropout\")(inputs1)\n",
    "fe2 = Dense(256, activation='relu', name=\"image_features\")(fe1)\n",
    "fe2_projected = RepeatVector(max_caption_length)(fe2)\n",
    "fe2_projected = Bidirectional(LSTM(256, return_sequences=True, return_state=False, recurrent_activation='sigmoid', use_bias=True))(fe2_projected)\n",
    "\n",
    "# Sequence feature layers\n",
    "inputs2 = Input(shape=(max_caption_length,))\n",
    "se1 = Embedding(vocab_size, 256, mask_zero=True, name=\"embedding_layer\")(inputs2)\n",
    "se2 = Dropout(0.5, name=\"sequence_dropout\")(se1)\n",
    "se3 = Bidirectional(LSTM(256, return_sequences=True, return_state=False, recurrent_activation='sigmoid', use_bias=True, name=\"sequence_lstm\"))(se2)\n",
    "\n",
    "# Apply attention mechanism using Lambda instead of Dot\n",
    "attention = Dot(axes=[2, 2])([fe2_projected, se3])\n",
    "attention_scores = Activation('softmax', name=\"attention_softmax\")(attention)\n",
    "attention_context = Dot(axes=[1, 1])([attention_scores, se3])\n",
    "\n",
    "\n",
    "# Sum the attended sequence embeddings along the time axis\n",
    "context_vector = Dense(1, use_bias=False)(attention_context)\n",
    "context_vector = Permute((2, 1))(context_vector)\n",
    "context_vector = Flatten()(context_vector)\n",
    "\n",
    "# Decoder model\n",
    "decoder_input = Concatenate(axis=-1)([context_vector, fe2])\n",
    "decoder1 = Dense(256, activation='relu', name=\"decoder_dense\")(decoder_input)\n",
    "outputs = Dense(vocab_size, activation='softmax', name=\"final_output\")(decoder1)\n",
    "\n",
    "# Create the model\n",
    "model = Model(inputs=[inputs1, inputs2], outputs=outputs)\n",
    "model.compile(loss='categorical_crossentropy', optimizer='adam')\n",
    "\n",
    "# Visualize the model\n",
    "plot_model(model, show_shapes=True)\n",
    "\n",
    "\n"
   ]
  },
  {
   "cell_type": "code",
   "execution_count": null,
   "metadata": {
    "colab": {
     "base_uri": "https://localhost:8080/"
    },
    "collapsed": true,
    "executionInfo": {
     "elapsed": 292446,
     "status": "ok",
     "timestamp": 1740074512161,
     "user": {
      "displayName": "Keetasin Kongsee",
      "userId": "16591596247660632261"
     },
     "user_tz": -420
    },
    "id": "sc0gIpSe18Bm",
    "outputId": "0f7cdf2c-3f03-4732-fd69-ae20540e8b7d"
   },
   "outputs": [],
   "source": [
    "# Set the number of epochs, batch size\n",
    "epochs = 50\n",
    "batch_size = 32\n",
    "\n",
    "# Calculate the steps_per_epoch based on the number of batches in one epoch\n",
    "steps_per_epoch = ceil(len(train) / batch_size)\n",
    "validation_steps = ceil(len(test) / batch_size)  # Calculate the steps for validation data\n",
    "\n",
    "# Loop through the epochs for training\n",
    "for epoch in range(epochs):\n",
    "    print(f\"Epoch {epoch+1}/{epochs}\")\n",
    "\n",
    "    # Set up data generators\n",
    "    train_generator = data_generator(train, image_to_captions_mapping, loaded_features, tokenizer, max_caption_length, vocab_size, batch_size)\n",
    "    test_generator = data_generator(test, image_to_captions_mapping, loaded_features, tokenizer, max_caption_length, vocab_size, batch_size)\n",
    "\n",
    "    model.fit(train_generator, epochs=1, steps_per_epoch=steps_per_epoch,\n",
    "          validation_data=test_generator, validation_steps=validation_steps,\n",
    "          verbose=1)"
   ]
  },
  {
   "cell_type": "code",
   "execution_count": null,
   "metadata": {
    "colab": {
     "base_uri": "https://localhost:8080/",
     "height": 929
    },
    "executionInfo": {
     "elapsed": 1165,
     "status": "ok",
     "timestamp": 1740074513329,
     "user": {
      "displayName": "Keetasin Kongsee",
      "userId": "16591596247660632261"
     },
     "user_tz": -420
    },
    "id": "701fMwgjfTKI",
    "outputId": "1ab55d04-095d-4771-a4eb-27f190e18e4f"
   },
   "outputs": [],
   "source": [
    "# Save the model in new format\n",
    "model.save('mymodel.keras')\n",
    "\n",
    "# Load the model\n",
    "model = tf.keras.models.load_model(\"mymodel.keras\")\n",
    "model.summary()\n"
   ]
  },
  {
   "cell_type": "markdown",
   "metadata": {
    "id": "qJnbYaLmrACH"
   },
   "source": [
    "# Captions Generation"
   ]
  },
  {
   "cell_type": "code",
   "execution_count": null,
   "metadata": {
    "id": "MdlF_hrO4a59"
   },
   "outputs": [],
   "source": [
    "def get_word_from_index(index, tokenizer):\n",
    "    return next((word for word, idx in tokenizer.word_index.items() if idx == index), None)"
   ]
  },
  {
   "cell_type": "code",
   "execution_count": null,
   "metadata": {
    "id": "Bo2G0mt84bWp"
   },
   "outputs": [],
   "source": [
    "def predict_caption(model, image_features, tokenizer, max_caption_length):\n",
    "    # Initialize the caption sequence\n",
    "    caption = 'startseq'\n",
    "\n",
    "    # Generate the caption\n",
    "    for _ in range(max_caption_length):\n",
    "        # Convert the current caption to a sequence of token indices\n",
    "        sequence = tokenizer.texts_to_sequences([caption])[0]\n",
    "        # Pad the sequence to match the maximum caption length\n",
    "        sequence = pad_sequences([sequence], maxlen=max_caption_length, padding='post')\n",
    "\n",
    "        # Predict the next word's probability distribution\n",
    "        yhat = model.predict([image_features, sequence], verbose=0)\n",
    "        # Get the index with the highest probability\n",
    "        predicted_index = np.argmax(yhat)\n",
    "        # Convert the index to a word\n",
    "        predicted_word = get_word_from_index(predicted_index, tokenizer)\n",
    "\n",
    "        # Append the predicted word to the caption\n",
    "        caption += \" \" + predicted_word\n",
    "\n",
    "        # Stop if the word is None or if the end sequence tag is encountered\n",
    "        if predicted_word is None or predicted_word == 'endseq':\n",
    "            break\n",
    "\n",
    "    return caption"
   ]
  },
  {
   "cell_type": "code",
   "execution_count": null,
   "metadata": {
    "colab": {
     "base_uri": "https://localhost:8080/",
     "height": 85,
     "referenced_widgets": [
      "4dabd107bbdd47c18a754df26075f1d6",
      "3e76264d0218431caa9d574e8251557b",
      "51dba16eaf214eb296ff71c8ae8a7004",
      "ffb96d2fb0504b68a8a038985f2f02b3",
      "576e1763e10245c08cb68a32cea9f238",
      "82666384f66a4aee898610ccb3f4e0a8",
      "af6d652815b0415a9421aa0a7772cda1",
      "c115459f39964febac5dc124d5c2aa16",
      "07cfbb92d61c43f39b5d8b9c11546b68",
      "e4059da613a24f90a138d5623c765c9e",
      "ba6c0b52c48f41c7b528d97b40277652"
     ]
    },
    "executionInfo": {
     "elapsed": 910708,
     "status": "ok",
     "timestamp": 1740075440071,
     "user": {
      "displayName": "Keetasin Kongsee",
      "userId": "16591596247660632261"
     },
     "user_tz": -420
    },
    "id": "o4OPWXwy4dCO",
    "outputId": "08e98e6e-3db7-4c08-8791-c0342c113d99"
   },
   "outputs": [],
   "source": [
    "# Initialize lists to store actual and predicted captions\n",
    "actual_captions_list = []\n",
    "predicted_captions_list = []\n",
    "\n",
    "# Loop through the test data\n",
    "for key in tqdm(test):\n",
    "    # Get actual captions for the current image\n",
    "    actual_captions = image_to_captions_mapping[key]\n",
    "    # Predict the caption for the image using the model\n",
    "    predicted_caption = predict_caption(model, loaded_features[key], tokenizer, max_caption_length)\n",
    "\n",
    "    # Split actual captions into words\n",
    "    actual_captions_words = [caption.split() for caption in actual_captions]\n",
    "    # Split predicted caption into words\n",
    "    predicted_caption_words = predicted_caption.split()\n",
    "\n",
    "    # Append to the lists\n",
    "    actual_captions_list.append(actual_captions_words)\n",
    "    predicted_captions_list.append(predicted_caption_words)\n",
    "\n",
    "# Calculate BLEU score\n",
    "print(\"BLEU-1: %f\" % corpus_bleu(actual_captions_list, predicted_captions_list, weights=(1.0, 0, 0, 0)))\n",
    "print(\"BLEU-2: %f\" % corpus_bleu(actual_captions_list, predicted_captions_list, weights=(0.5, 0.5, 0, 0)))"
   ]
  },
  {
   "cell_type": "markdown",
   "metadata": {
    "id": "-in54EH5rEpA"
   },
   "source": [
    "# Predicting captions for Images"
   ]
  },
  {
   "cell_type": "code",
   "execution_count": null,
   "metadata": {
    "id": "gJ8_VpPz4fGB"
   },
   "outputs": [],
   "source": [
    "# Function for generating caption\n",
    "def generate_caption(image_name):\n",
    "    # load the image\n",
    "    image_id = image_name.split('.')[0]\n",
    "    img_path = os.path.join(INPUT_DIR, \"Images\", image_name)\n",
    "    image = Image.open(img_path)\n",
    "    captions = image_to_captions_mapping[image_id]\n",
    "    print('---------------------Actual---------------------')\n",
    "    for caption in captions:\n",
    "        print(caption)\n",
    "    # predict the caption\n",
    "    y_pred = predict_caption(model, loaded_features[image_id], tokenizer, max_caption_length)\n",
    "    print('--------------------Predicted--------------------')\n",
    "    print(y_pred)\n",
    "    plt.imshow(image)"
   ]
  },
  {
   "cell_type": "code",
   "execution_count": null,
   "metadata": {
    "colab": {
     "base_uri": "https://localhost:8080/",
     "height": 565
    },
    "executionInfo": {
     "elapsed": 2088,
     "status": "ok",
     "timestamp": 1740075442375,
     "user": {
      "displayName": "Keetasin Kongsee",
      "userId": "16591596247660632261"
     },
     "user_tz": -420
    },
    "id": "ffMqgp8l4hLi",
    "outputId": "38897e64-0cbb-4e58-f534-0e2c9e5f82a6"
   },
   "outputs": [],
   "source": [
    "generate_caption(\"101669240_b2d3e7f17b.jpg\")"
   ]
  },
  {
   "cell_type": "code",
   "execution_count": null,
   "metadata": {
    "colab": {
     "base_uri": "https://localhost:8080/",
     "height": 579
    },
    "executionInfo": {
     "elapsed": 1454,
     "status": "ok",
     "timestamp": 1740075443831,
     "user": {
      "displayName": "Keetasin Kongsee",
      "userId": "16591596247660632261"
     },
     "user_tz": -420
    },
    "id": "Dk7rd1RI4mSW",
    "outputId": "0df7ecbd-9a88-45be-d78a-7d26196da299"
   },
   "outputs": [],
   "source": [
    "generate_caption(\"1077546505_a4f6c4daa9.jpg\")"
   ]
  },
  {
   "cell_type": "code",
   "execution_count": null,
   "metadata": {
    "colab": {
     "base_uri": "https://localhost:8080/",
     "height": 581
    },
    "executionInfo": {
     "elapsed": 1664,
     "status": "ok",
     "timestamp": 1740075445515,
     "user": {
      "displayName": "Keetasin Kongsee",
      "userId": "16591596247660632261"
     },
     "user_tz": -420
    },
    "id": "zhGHwypK4nw8",
    "outputId": "29d6bf7c-0a37-4074-a453-dfa0cf021d04"
   },
   "outputs": [],
   "source": [
    "generate_caption(\"1002674143_1b742ab4b8.jpg\")"
   ]
  },
  {
   "cell_type": "code",
   "execution_count": null,
   "metadata": {
    "colab": {
     "base_uri": "https://localhost:8080/",
     "height": 581
    },
    "executionInfo": {
     "elapsed": 2412,
     "status": "ok",
     "timestamp": 1740075447941,
     "user": {
      "displayName": "Keetasin Kongsee",
      "userId": "16591596247660632261"
     },
     "user_tz": -420
    },
    "id": "Ffa8UdPz4psK",
    "outputId": "8f9e0138-6bbf-4135-8e02-d5c2200fea61"
   },
   "outputs": [],
   "source": [
    "generate_caption(\"1032460886_4a598ed535.jpg\")"
   ]
  },
  {
   "cell_type": "code",
   "execution_count": null,
   "metadata": {
    "colab": {
     "base_uri": "https://localhost:8080/",
     "height": 581
    },
    "executionInfo": {
     "elapsed": 1438,
     "status": "ok",
     "timestamp": 1740075449382,
     "user": {
      "displayName": "Keetasin Kongsee",
      "userId": "16591596247660632261"
     },
     "user_tz": -420
    },
    "id": "KseTRkHH4rIF",
    "outputId": "89f76a9d-e330-4d5e-de64-28aebde1af2e"
   },
   "outputs": [],
   "source": [
    "generate_caption(\"1032122270_ea6f0beedb.jpg\")"
   ]
  },
  {
   "cell_type": "code",
   "execution_count": null,
   "metadata": {
    "colab": {
     "base_uri": "https://localhost:8080/"
    },
    "executionInfo": {
     "elapsed": 2451,
     "status": "ok",
     "timestamp": 1740075991743,
     "user": {
      "displayName": "Keetasin Kongsee",
      "userId": "16591596247660632261"
     },
     "user_tz": -420
    },
    "id": "Wv7Kj6OknA4h",
    "outputId": "32e560ce-05ff-4878-ddd7-efab4aa6ed0c"
   },
   "outputs": [],
   "source": [
    "import numpy as np\n",
    "import pickle\n",
    "from tensorflow.keras.models import load_model\n",
    "from tensorflow.keras.preprocessing.sequence import pad_sequences\n",
    "\n",
    "def load_model_and_data(model_path, features_path, tokenizer_path):\n",
    "    \"\"\"โหลดโมเดล, features และ tokenizer\"\"\"\n",
    "    model = load_model(model_path)\n",
    "\n",
    "    with open(features_path, \"rb\") as f:\n",
    "        img_features = pickle.load(f)\n",
    "\n",
    "    with open(tokenizer_path, \"rb\") as f:\n",
    "        tokenizer = pickle.load(f)\n",
    "\n",
    "    return model, img_features, tokenizer\n",
    "\n",
    "def generate_caption(model, tokenizer, photo_feature, max_length=34):\n",
    "    \"\"\"สร้างแคปชันสำหรับภาพที่กำหนด\"\"\"\n",
    "    in_text = \"startseq\"\n",
    "    for _ in range(max_length):\n",
    "        sequence = tokenizer.texts_to_sequences([in_text])[0]\n",
    "        sequence = pad_sequences([sequence], maxlen=max_length, padding=\"post\")\n",
    "\n",
    "        y_pred = model.predict([photo_feature, sequence], verbose=0)\n",
    "        y_pred = np.argmax(y_pred)\n",
    "\n",
    "        word = None\n",
    "        for w, index in tokenizer.word_index.items():\n",
    "            if index == y_pred:\n",
    "                word = w\n",
    "                break\n",
    "\n",
    "        if word is None or word == \"endseq\":\n",
    "            break\n",
    "\n",
    "        in_text += \" \" + word\n",
    "\n",
    "    return in_text.replace(\"startseq\", \"\").replace(\"endseq\", \"\").strip()\n",
    "\n",
    "if __name__ == \"__main__\":\n",
    "    model_path = \"mymodel.keras\"\n",
    "    features_path = \"img_features.pkl\"\n",
    "    tokenizer_path = \"tokenizer.pkl\"\n",
    "    max_caption_length = 34\n",
    "\n",
    "    model, img_features, tokenizer = load_model_and_data(model_path, features_path, tokenizer_path)\n",
    "\n",
    "    image_id = \"1032122270_ea6f0beedb\"\n",
    "    if image_id in img_features:\n",
    "        photo_feature = img_features[image_id].reshape((1, -1))\n",
    "        caption = generate_caption(model, tokenizer, photo_feature, max_caption_length)\n",
    "        print(\"Generated Caption:\", caption)\n",
    "    else:\n",
    "        print(\"Error: Image ID not found in features!\")\n"
   ]
  }
 ],
 "metadata": {
  "accelerator": "GPU",
  "colab": {
   "gpuType": "T4",
   "provenance": []
  },
  "kernelspec": {
   "display_name": "Python 3",
   "name": "python3"
  },
  "language_info": {
   "name": "python"
  },
  "widgets": {
   "application/vnd.jupyter.widget-state+json": {
    "07cfbb92d61c43f39b5d8b9c11546b68": {
     "model_module": "@jupyter-widgets/controls",
     "model_module_version": "1.5.0",
     "model_name": "ProgressStyleModel",
     "state": {
      "_model_module": "@jupyter-widgets/controls",
      "_model_module_version": "1.5.0",
      "_model_name": "ProgressStyleModel",
      "_view_count": null,
      "_view_module": "@jupyter-widgets/base",
      "_view_module_version": "1.2.0",
      "_view_name": "StyleView",
      "bar_color": null,
      "description_width": ""
     }
    },
    "0b0fa839d0314dcd9079d2bf0619c49b": {
     "model_module": "@jupyter-widgets/base",
     "model_module_version": "1.2.0",
     "model_name": "LayoutModel",
     "state": {
      "_model_module": "@jupyter-widgets/base",
      "_model_module_version": "1.2.0",
      "_model_name": "LayoutModel",
      "_view_count": null,
      "_view_module": "@jupyter-widgets/base",
      "_view_module_version": "1.2.0",
      "_view_name": "LayoutView",
      "align_content": null,
      "align_items": null,
      "align_self": null,
      "border": null,
      "bottom": null,
      "display": null,
      "flex": null,
      "flex_flow": null,
      "grid_area": null,
      "grid_auto_columns": null,
      "grid_auto_flow": null,
      "grid_auto_rows": null,
      "grid_column": null,
      "grid_gap": null,
      "grid_row": null,
      "grid_template_areas": null,
      "grid_template_columns": null,
      "grid_template_rows": null,
      "height": null,
      "justify_content": null,
      "justify_items": null,
      "left": null,
      "margin": null,
      "max_height": null,
      "max_width": null,
      "min_height": null,
      "min_width": null,
      "object_fit": null,
      "object_position": null,
      "order": null,
      "overflow": null,
      "overflow_x": null,
      "overflow_y": null,
      "padding": null,
      "right": null,
      "top": null,
      "visibility": null,
      "width": null
     }
    },
    "0b102aa55ee941259fbb1620ac243397": {
     "model_module": "@jupyter-widgets/controls",
     "model_module_version": "1.5.0",
     "model_name": "ProgressStyleModel",
     "state": {
      "_model_module": "@jupyter-widgets/controls",
      "_model_module_version": "1.5.0",
      "_model_name": "ProgressStyleModel",
      "_view_count": null,
      "_view_module": "@jupyter-widgets/base",
      "_view_module_version": "1.2.0",
      "_view_name": "StyleView",
      "bar_color": null,
      "description_width": ""
     }
    },
    "1959f08381db445db22b0408ce23bc76": {
     "model_module": "@jupyter-widgets/controls",
     "model_module_version": "1.5.0",
     "model_name": "FloatProgressModel",
     "state": {
      "_dom_classes": [],
      "_model_module": "@jupyter-widgets/controls",
      "_model_module_version": "1.5.0",
      "_model_name": "FloatProgressModel",
      "_view_count": null,
      "_view_module": "@jupyter-widgets/controls",
      "_view_module_version": "1.5.0",
      "_view_name": "ProgressView",
      "bar_style": "success",
      "description": "",
      "description_tooltip": null,
      "layout": "IPY_MODEL_da9780e0505b447998ae56c7e5716198",
      "max": 8091,
      "min": 0,
      "orientation": "horizontal",
      "style": "IPY_MODEL_0b102aa55ee941259fbb1620ac243397",
      "value": 8091
     }
    },
    "1f866d7d1ee94480b5d439338aebc289": {
     "model_module": "@jupyter-widgets/controls",
     "model_module_version": "1.5.0",
     "model_name": "HTMLModel",
     "state": {
      "_dom_classes": [],
      "_model_module": "@jupyter-widgets/controls",
      "_model_module_version": "1.5.0",
      "_model_name": "HTMLModel",
      "_view_count": null,
      "_view_module": "@jupyter-widgets/controls",
      "_view_module_version": "1.5.0",
      "_view_name": "HTMLView",
      "description": "",
      "description_tooltip": null,
      "layout": "IPY_MODEL_dd85a972bf524681b551fa2fe4714186",
      "placeholder": "​",
      "style": "IPY_MODEL_8c83448523244e0bb726d01ad9d25a0a",
      "value": "100%"
     }
    },
    "34c5a4dec36a4f62af26e1a31fdf8f8c": {
     "model_module": "@jupyter-widgets/controls",
     "model_module_version": "1.5.0",
     "model_name": "DescriptionStyleModel",
     "state": {
      "_model_module": "@jupyter-widgets/controls",
      "_model_module_version": "1.5.0",
      "_model_name": "DescriptionStyleModel",
      "_view_count": null,
      "_view_module": "@jupyter-widgets/base",
      "_view_module_version": "1.2.0",
      "_view_name": "StyleView",
      "description_width": ""
     }
    },
    "3bafa3d3f1a9437db340b19a3ee29bcf": {
     "model_module": "@jupyter-widgets/base",
     "model_module_version": "1.2.0",
     "model_name": "LayoutModel",
     "state": {
      "_model_module": "@jupyter-widgets/base",
      "_model_module_version": "1.2.0",
      "_model_name": "LayoutModel",
      "_view_count": null,
      "_view_module": "@jupyter-widgets/base",
      "_view_module_version": "1.2.0",
      "_view_name": "LayoutView",
      "align_content": null,
      "align_items": null,
      "align_self": null,
      "border": null,
      "bottom": null,
      "display": null,
      "flex": null,
      "flex_flow": null,
      "grid_area": null,
      "grid_auto_columns": null,
      "grid_auto_flow": null,
      "grid_auto_rows": null,
      "grid_column": null,
      "grid_gap": null,
      "grid_row": null,
      "grid_template_areas": null,
      "grid_template_columns": null,
      "grid_template_rows": null,
      "height": null,
      "justify_content": null,
      "justify_items": null,
      "left": null,
      "margin": null,
      "max_height": null,
      "max_width": null,
      "min_height": null,
      "min_width": null,
      "object_fit": null,
      "object_position": null,
      "order": null,
      "overflow": null,
      "overflow_x": null,
      "overflow_y": null,
      "padding": null,
      "right": null,
      "top": null,
      "visibility": null,
      "width": null
     }
    },
    "3d27294a3ea2428aa8cc8e1caa031b7b": {
     "model_module": "@jupyter-widgets/controls",
     "model_module_version": "1.5.0",
     "model_name": "HTMLModel",
     "state": {
      "_dom_classes": [],
      "_model_module": "@jupyter-widgets/controls",
      "_model_module_version": "1.5.0",
      "_model_name": "HTMLModel",
      "_view_count": null,
      "_view_module": "@jupyter-widgets/controls",
      "_view_module_version": "1.5.0",
      "_view_name": "HTMLView",
      "description": "",
      "description_tooltip": null,
      "layout": "IPY_MODEL_e5b8769d9fb6448fb240c03118fba1bc",
      "placeholder": "​",
      "style": "IPY_MODEL_44a9cabd98ca44a68a8d0c19f3128ca6",
      "value": " 8091/8091 [12:56&lt;00:00, 11.55it/s]"
     }
    },
    "3e76264d0218431caa9d574e8251557b": {
     "model_module": "@jupyter-widgets/controls",
     "model_module_version": "1.5.0",
     "model_name": "HTMLModel",
     "state": {
      "_dom_classes": [],
      "_model_module": "@jupyter-widgets/controls",
      "_model_module_version": "1.5.0",
      "_model_name": "HTMLModel",
      "_view_count": null,
      "_view_module": "@jupyter-widgets/controls",
      "_view_module_version": "1.5.0",
      "_view_name": "HTMLView",
      "description": "",
      "description_tooltip": null,
      "layout": "IPY_MODEL_82666384f66a4aee898610ccb3f4e0a8",
      "placeholder": "​",
      "style": "IPY_MODEL_af6d652815b0415a9421aa0a7772cda1",
      "value": "100%"
     }
    },
    "44a9cabd98ca44a68a8d0c19f3128ca6": {
     "model_module": "@jupyter-widgets/controls",
     "model_module_version": "1.5.0",
     "model_name": "DescriptionStyleModel",
     "state": {
      "_model_module": "@jupyter-widgets/controls",
      "_model_module_version": "1.5.0",
      "_model_name": "DescriptionStyleModel",
      "_view_count": null,
      "_view_module": "@jupyter-widgets/base",
      "_view_module_version": "1.2.0",
      "_view_name": "StyleView",
      "description_width": ""
     }
    },
    "4dabd107bbdd47c18a754df26075f1d6": {
     "model_module": "@jupyter-widgets/controls",
     "model_module_version": "1.5.0",
     "model_name": "HBoxModel",
     "state": {
      "_dom_classes": [],
      "_model_module": "@jupyter-widgets/controls",
      "_model_module_version": "1.5.0",
      "_model_name": "HBoxModel",
      "_view_count": null,
      "_view_module": "@jupyter-widgets/controls",
      "_view_module_version": "1.5.0",
      "_view_name": "HBoxView",
      "box_style": "",
      "children": [
       "IPY_MODEL_3e76264d0218431caa9d574e8251557b",
       "IPY_MODEL_51dba16eaf214eb296ff71c8ae8a7004",
       "IPY_MODEL_ffb96d2fb0504b68a8a038985f2f02b3"
      ],
      "layout": "IPY_MODEL_576e1763e10245c08cb68a32cea9f238"
     }
    },
    "51dba16eaf214eb296ff71c8ae8a7004": {
     "model_module": "@jupyter-widgets/controls",
     "model_module_version": "1.5.0",
     "model_name": "FloatProgressModel",
     "state": {
      "_dom_classes": [],
      "_model_module": "@jupyter-widgets/controls",
      "_model_module_version": "1.5.0",
      "_model_name": "FloatProgressModel",
      "_view_count": null,
      "_view_module": "@jupyter-widgets/controls",
      "_view_module_version": "1.5.0",
      "_view_name": "ProgressView",
      "bar_style": "success",
      "description": "",
      "description_tooltip": null,
      "layout": "IPY_MODEL_c115459f39964febac5dc124d5c2aa16",
      "max": 810,
      "min": 0,
      "orientation": "horizontal",
      "style": "IPY_MODEL_07cfbb92d61c43f39b5d8b9c11546b68",
      "value": 810
     }
    },
    "576e1763e10245c08cb68a32cea9f238": {
     "model_module": "@jupyter-widgets/base",
     "model_module_version": "1.2.0",
     "model_name": "LayoutModel",
     "state": {
      "_model_module": "@jupyter-widgets/base",
      "_model_module_version": "1.2.0",
      "_model_name": "LayoutModel",
      "_view_count": null,
      "_view_module": "@jupyter-widgets/base",
      "_view_module_version": "1.2.0",
      "_view_name": "LayoutView",
      "align_content": null,
      "align_items": null,
      "align_self": null,
      "border": null,
      "bottom": null,
      "display": null,
      "flex": null,
      "flex_flow": null,
      "grid_area": null,
      "grid_auto_columns": null,
      "grid_auto_flow": null,
      "grid_auto_rows": null,
      "grid_column": null,
      "grid_gap": null,
      "grid_row": null,
      "grid_template_areas": null,
      "grid_template_columns": null,
      "grid_template_rows": null,
      "height": null,
      "justify_content": null,
      "justify_items": null,
      "left": null,
      "margin": null,
      "max_height": null,
      "max_width": null,
      "min_height": null,
      "min_width": null,
      "object_fit": null,
      "object_position": null,
      "order": null,
      "overflow": null,
      "overflow_x": null,
      "overflow_y": null,
      "padding": null,
      "right": null,
      "top": null,
      "visibility": null,
      "width": null
     }
    },
    "66a4e639b15c4a8ab82ab0aa9c559c47": {
     "model_module": "@jupyter-widgets/controls",
     "model_module_version": "1.5.0",
     "model_name": "DescriptionStyleModel",
     "state": {
      "_model_module": "@jupyter-widgets/controls",
      "_model_module_version": "1.5.0",
      "_model_name": "DescriptionStyleModel",
      "_view_count": null,
      "_view_module": "@jupyter-widgets/base",
      "_view_module_version": "1.2.0",
      "_view_name": "StyleView",
      "description_width": ""
     }
    },
    "747539c7a58a413ca99eaa355464f606": {
     "model_module": "@jupyter-widgets/controls",
     "model_module_version": "1.5.0",
     "model_name": "HTMLModel",
     "state": {
      "_dom_classes": [],
      "_model_module": "@jupyter-widgets/controls",
      "_model_module_version": "1.5.0",
      "_model_name": "HTMLModel",
      "_view_count": null,
      "_view_module": "@jupyter-widgets/controls",
      "_view_module_version": "1.5.0",
      "_view_name": "HTMLView",
      "description": "",
      "description_tooltip": null,
      "layout": "IPY_MODEL_3bafa3d3f1a9437db340b19a3ee29bcf",
      "placeholder": "​",
      "style": "IPY_MODEL_66a4e639b15c4a8ab82ab0aa9c559c47",
      "value": " 40456/40456 [00:00&lt;00:00, 411179.57it/s]"
     }
    },
    "82666384f66a4aee898610ccb3f4e0a8": {
     "model_module": "@jupyter-widgets/base",
     "model_module_version": "1.2.0",
     "model_name": "LayoutModel",
     "state": {
      "_model_module": "@jupyter-widgets/base",
      "_model_module_version": "1.2.0",
      "_model_name": "LayoutModel",
      "_view_count": null,
      "_view_module": "@jupyter-widgets/base",
      "_view_module_version": "1.2.0",
      "_view_name": "LayoutView",
      "align_content": null,
      "align_items": null,
      "align_self": null,
      "border": null,
      "bottom": null,
      "display": null,
      "flex": null,
      "flex_flow": null,
      "grid_area": null,
      "grid_auto_columns": null,
      "grid_auto_flow": null,
      "grid_auto_rows": null,
      "grid_column": null,
      "grid_gap": null,
      "grid_row": null,
      "grid_template_areas": null,
      "grid_template_columns": null,
      "grid_template_rows": null,
      "height": null,
      "justify_content": null,
      "justify_items": null,
      "left": null,
      "margin": null,
      "max_height": null,
      "max_width": null,
      "min_height": null,
      "min_width": null,
      "object_fit": null,
      "object_position": null,
      "order": null,
      "overflow": null,
      "overflow_x": null,
      "overflow_y": null,
      "padding": null,
      "right": null,
      "top": null,
      "visibility": null,
      "width": null
     }
    },
    "8c83448523244e0bb726d01ad9d25a0a": {
     "model_module": "@jupyter-widgets/controls",
     "model_module_version": "1.5.0",
     "model_name": "DescriptionStyleModel",
     "state": {
      "_model_module": "@jupyter-widgets/controls",
      "_model_module_version": "1.5.0",
      "_model_name": "DescriptionStyleModel",
      "_view_count": null,
      "_view_module": "@jupyter-widgets/base",
      "_view_module_version": "1.2.0",
      "_view_name": "StyleView",
      "description_width": ""
     }
    },
    "a0cef950a66d48639bdeab316cea6a98": {
     "model_module": "@jupyter-widgets/base",
     "model_module_version": "1.2.0",
     "model_name": "LayoutModel",
     "state": {
      "_model_module": "@jupyter-widgets/base",
      "_model_module_version": "1.2.0",
      "_model_name": "LayoutModel",
      "_view_count": null,
      "_view_module": "@jupyter-widgets/base",
      "_view_module_version": "1.2.0",
      "_view_name": "LayoutView",
      "align_content": null,
      "align_items": null,
      "align_self": null,
      "border": null,
      "bottom": null,
      "display": null,
      "flex": null,
      "flex_flow": null,
      "grid_area": null,
      "grid_auto_columns": null,
      "grid_auto_flow": null,
      "grid_auto_rows": null,
      "grid_column": null,
      "grid_gap": null,
      "grid_row": null,
      "grid_template_areas": null,
      "grid_template_columns": null,
      "grid_template_rows": null,
      "height": null,
      "justify_content": null,
      "justify_items": null,
      "left": null,
      "margin": null,
      "max_height": null,
      "max_width": null,
      "min_height": null,
      "min_width": null,
      "object_fit": null,
      "object_position": null,
      "order": null,
      "overflow": null,
      "overflow_x": null,
      "overflow_y": null,
      "padding": null,
      "right": null,
      "top": null,
      "visibility": null,
      "width": null
     }
    },
    "a0ecf93aa99f4effa37922301138ab49": {
     "model_module": "@jupyter-widgets/base",
     "model_module_version": "1.2.0",
     "model_name": "LayoutModel",
     "state": {
      "_model_module": "@jupyter-widgets/base",
      "_model_module_version": "1.2.0",
      "_model_name": "LayoutModel",
      "_view_count": null,
      "_view_module": "@jupyter-widgets/base",
      "_view_module_version": "1.2.0",
      "_view_name": "LayoutView",
      "align_content": null,
      "align_items": null,
      "align_self": null,
      "border": null,
      "bottom": null,
      "display": null,
      "flex": null,
      "flex_flow": null,
      "grid_area": null,
      "grid_auto_columns": null,
      "grid_auto_flow": null,
      "grid_auto_rows": null,
      "grid_column": null,
      "grid_gap": null,
      "grid_row": null,
      "grid_template_areas": null,
      "grid_template_columns": null,
      "grid_template_rows": null,
      "height": null,
      "justify_content": null,
      "justify_items": null,
      "left": null,
      "margin": null,
      "max_height": null,
      "max_width": null,
      "min_height": null,
      "min_width": null,
      "object_fit": null,
      "object_position": null,
      "order": null,
      "overflow": null,
      "overflow_x": null,
      "overflow_y": null,
      "padding": null,
      "right": null,
      "top": null,
      "visibility": null,
      "width": null
     }
    },
    "af6d652815b0415a9421aa0a7772cda1": {
     "model_module": "@jupyter-widgets/controls",
     "model_module_version": "1.5.0",
     "model_name": "DescriptionStyleModel",
     "state": {
      "_model_module": "@jupyter-widgets/controls",
      "_model_module_version": "1.5.0",
      "_model_name": "DescriptionStyleModel",
      "_view_count": null,
      "_view_module": "@jupyter-widgets/base",
      "_view_module_version": "1.2.0",
      "_view_name": "StyleView",
      "description_width": ""
     }
    },
    "b19d78aafa304acfb4461c627aed7b81": {
     "model_module": "@jupyter-widgets/controls",
     "model_module_version": "1.5.0",
     "model_name": "HBoxModel",
     "state": {
      "_dom_classes": [],
      "_model_module": "@jupyter-widgets/controls",
      "_model_module_version": "1.5.0",
      "_model_name": "HBoxModel",
      "_view_count": null,
      "_view_module": "@jupyter-widgets/controls",
      "_view_module_version": "1.5.0",
      "_view_name": "HBoxView",
      "box_style": "",
      "children": [
       "IPY_MODEL_e98a4956b2aa4994804fc4b6a98e451f",
       "IPY_MODEL_1959f08381db445db22b0408ce23bc76",
       "IPY_MODEL_3d27294a3ea2428aa8cc8e1caa031b7b"
      ],
      "layout": "IPY_MODEL_0b0fa839d0314dcd9079d2bf0619c49b"
     }
    },
    "ba6c0b52c48f41c7b528d97b40277652": {
     "model_module": "@jupyter-widgets/controls",
     "model_module_version": "1.5.0",
     "model_name": "DescriptionStyleModel",
     "state": {
      "_model_module": "@jupyter-widgets/controls",
      "_model_module_version": "1.5.0",
      "_model_name": "DescriptionStyleModel",
      "_view_count": null,
      "_view_module": "@jupyter-widgets/base",
      "_view_module_version": "1.2.0",
      "_view_name": "StyleView",
      "description_width": ""
     }
    },
    "c115459f39964febac5dc124d5c2aa16": {
     "model_module": "@jupyter-widgets/base",
     "model_module_version": "1.2.0",
     "model_name": "LayoutModel",
     "state": {
      "_model_module": "@jupyter-widgets/base",
      "_model_module_version": "1.2.0",
      "_model_name": "LayoutModel",
      "_view_count": null,
      "_view_module": "@jupyter-widgets/base",
      "_view_module_version": "1.2.0",
      "_view_name": "LayoutView",
      "align_content": null,
      "align_items": null,
      "align_self": null,
      "border": null,
      "bottom": null,
      "display": null,
      "flex": null,
      "flex_flow": null,
      "grid_area": null,
      "grid_auto_columns": null,
      "grid_auto_flow": null,
      "grid_auto_rows": null,
      "grid_column": null,
      "grid_gap": null,
      "grid_row": null,
      "grid_template_areas": null,
      "grid_template_columns": null,
      "grid_template_rows": null,
      "height": null,
      "justify_content": null,
      "justify_items": null,
      "left": null,
      "margin": null,
      "max_height": null,
      "max_width": null,
      "min_height": null,
      "min_width": null,
      "object_fit": null,
      "object_position": null,
      "order": null,
      "overflow": null,
      "overflow_x": null,
      "overflow_y": null,
      "padding": null,
      "right": null,
      "top": null,
      "visibility": null,
      "width": null
     }
    },
    "ca41733028e14b66ad157f971b61eaa7": {
     "model_module": "@jupyter-widgets/controls",
     "model_module_version": "1.5.0",
     "model_name": "HBoxModel",
     "state": {
      "_dom_classes": [],
      "_model_module": "@jupyter-widgets/controls",
      "_model_module_version": "1.5.0",
      "_model_name": "HBoxModel",
      "_view_count": null,
      "_view_module": "@jupyter-widgets/controls",
      "_view_module_version": "1.5.0",
      "_view_name": "HBoxView",
      "box_style": "",
      "children": [
       "IPY_MODEL_1f866d7d1ee94480b5d439338aebc289",
       "IPY_MODEL_dc32d1c02c874ca680df418986f5cd6a",
       "IPY_MODEL_747539c7a58a413ca99eaa355464f606"
      ],
      "layout": "IPY_MODEL_fdece24cfa164ca5a8262c6444f66c37"
     }
    },
    "da9780e0505b447998ae56c7e5716198": {
     "model_module": "@jupyter-widgets/base",
     "model_module_version": "1.2.0",
     "model_name": "LayoutModel",
     "state": {
      "_model_module": "@jupyter-widgets/base",
      "_model_module_version": "1.2.0",
      "_model_name": "LayoutModel",
      "_view_count": null,
      "_view_module": "@jupyter-widgets/base",
      "_view_module_version": "1.2.0",
      "_view_name": "LayoutView",
      "align_content": null,
      "align_items": null,
      "align_self": null,
      "border": null,
      "bottom": null,
      "display": null,
      "flex": null,
      "flex_flow": null,
      "grid_area": null,
      "grid_auto_columns": null,
      "grid_auto_flow": null,
      "grid_auto_rows": null,
      "grid_column": null,
      "grid_gap": null,
      "grid_row": null,
      "grid_template_areas": null,
      "grid_template_columns": null,
      "grid_template_rows": null,
      "height": null,
      "justify_content": null,
      "justify_items": null,
      "left": null,
      "margin": null,
      "max_height": null,
      "max_width": null,
      "min_height": null,
      "min_width": null,
      "object_fit": null,
      "object_position": null,
      "order": null,
      "overflow": null,
      "overflow_x": null,
      "overflow_y": null,
      "padding": null,
      "right": null,
      "top": null,
      "visibility": null,
      "width": null
     }
    },
    "dc32d1c02c874ca680df418986f5cd6a": {
     "model_module": "@jupyter-widgets/controls",
     "model_module_version": "1.5.0",
     "model_name": "FloatProgressModel",
     "state": {
      "_dom_classes": [],
      "_model_module": "@jupyter-widgets/controls",
      "_model_module_version": "1.5.0",
      "_model_name": "FloatProgressModel",
      "_view_count": null,
      "_view_module": "@jupyter-widgets/controls",
      "_view_module_version": "1.5.0",
      "_view_name": "ProgressView",
      "bar_style": "success",
      "description": "",
      "description_tooltip": null,
      "layout": "IPY_MODEL_a0ecf93aa99f4effa37922301138ab49",
      "max": 40456,
      "min": 0,
      "orientation": "horizontal",
      "style": "IPY_MODEL_fbeebb1b3d72457eabba63c1eb4a44d8",
      "value": 40456
     }
    },
    "dd85a972bf524681b551fa2fe4714186": {
     "model_module": "@jupyter-widgets/base",
     "model_module_version": "1.2.0",
     "model_name": "LayoutModel",
     "state": {
      "_model_module": "@jupyter-widgets/base",
      "_model_module_version": "1.2.0",
      "_model_name": "LayoutModel",
      "_view_count": null,
      "_view_module": "@jupyter-widgets/base",
      "_view_module_version": "1.2.0",
      "_view_name": "LayoutView",
      "align_content": null,
      "align_items": null,
      "align_self": null,
      "border": null,
      "bottom": null,
      "display": null,
      "flex": null,
      "flex_flow": null,
      "grid_area": null,
      "grid_auto_columns": null,
      "grid_auto_flow": null,
      "grid_auto_rows": null,
      "grid_column": null,
      "grid_gap": null,
      "grid_row": null,
      "grid_template_areas": null,
      "grid_template_columns": null,
      "grid_template_rows": null,
      "height": null,
      "justify_content": null,
      "justify_items": null,
      "left": null,
      "margin": null,
      "max_height": null,
      "max_width": null,
      "min_height": null,
      "min_width": null,
      "object_fit": null,
      "object_position": null,
      "order": null,
      "overflow": null,
      "overflow_x": null,
      "overflow_y": null,
      "padding": null,
      "right": null,
      "top": null,
      "visibility": null,
      "width": null
     }
    },
    "e4059da613a24f90a138d5623c765c9e": {
     "model_module": "@jupyter-widgets/base",
     "model_module_version": "1.2.0",
     "model_name": "LayoutModel",
     "state": {
      "_model_module": "@jupyter-widgets/base",
      "_model_module_version": "1.2.0",
      "_model_name": "LayoutModel",
      "_view_count": null,
      "_view_module": "@jupyter-widgets/base",
      "_view_module_version": "1.2.0",
      "_view_name": "LayoutView",
      "align_content": null,
      "align_items": null,
      "align_self": null,
      "border": null,
      "bottom": null,
      "display": null,
      "flex": null,
      "flex_flow": null,
      "grid_area": null,
      "grid_auto_columns": null,
      "grid_auto_flow": null,
      "grid_auto_rows": null,
      "grid_column": null,
      "grid_gap": null,
      "grid_row": null,
      "grid_template_areas": null,
      "grid_template_columns": null,
      "grid_template_rows": null,
      "height": null,
      "justify_content": null,
      "justify_items": null,
      "left": null,
      "margin": null,
      "max_height": null,
      "max_width": null,
      "min_height": null,
      "min_width": null,
      "object_fit": null,
      "object_position": null,
      "order": null,
      "overflow": null,
      "overflow_x": null,
      "overflow_y": null,
      "padding": null,
      "right": null,
      "top": null,
      "visibility": null,
      "width": null
     }
    },
    "e5b8769d9fb6448fb240c03118fba1bc": {
     "model_module": "@jupyter-widgets/base",
     "model_module_version": "1.2.0",
     "model_name": "LayoutModel",
     "state": {
      "_model_module": "@jupyter-widgets/base",
      "_model_module_version": "1.2.0",
      "_model_name": "LayoutModel",
      "_view_count": null,
      "_view_module": "@jupyter-widgets/base",
      "_view_module_version": "1.2.0",
      "_view_name": "LayoutView",
      "align_content": null,
      "align_items": null,
      "align_self": null,
      "border": null,
      "bottom": null,
      "display": null,
      "flex": null,
      "flex_flow": null,
      "grid_area": null,
      "grid_auto_columns": null,
      "grid_auto_flow": null,
      "grid_auto_rows": null,
      "grid_column": null,
      "grid_gap": null,
      "grid_row": null,
      "grid_template_areas": null,
      "grid_template_columns": null,
      "grid_template_rows": null,
      "height": null,
      "justify_content": null,
      "justify_items": null,
      "left": null,
      "margin": null,
      "max_height": null,
      "max_width": null,
      "min_height": null,
      "min_width": null,
      "object_fit": null,
      "object_position": null,
      "order": null,
      "overflow": null,
      "overflow_x": null,
      "overflow_y": null,
      "padding": null,
      "right": null,
      "top": null,
      "visibility": null,
      "width": null
     }
    },
    "e98a4956b2aa4994804fc4b6a98e451f": {
     "model_module": "@jupyter-widgets/controls",
     "model_module_version": "1.5.0",
     "model_name": "HTMLModel",
     "state": {
      "_dom_classes": [],
      "_model_module": "@jupyter-widgets/controls",
      "_model_module_version": "1.5.0",
      "_model_name": "HTMLModel",
      "_view_count": null,
      "_view_module": "@jupyter-widgets/controls",
      "_view_module_version": "1.5.0",
      "_view_name": "HTMLView",
      "description": "",
      "description_tooltip": null,
      "layout": "IPY_MODEL_a0cef950a66d48639bdeab316cea6a98",
      "placeholder": "​",
      "style": "IPY_MODEL_34c5a4dec36a4f62af26e1a31fdf8f8c",
      "value": "100%"
     }
    },
    "fbeebb1b3d72457eabba63c1eb4a44d8": {
     "model_module": "@jupyter-widgets/controls",
     "model_module_version": "1.5.0",
     "model_name": "ProgressStyleModel",
     "state": {
      "_model_module": "@jupyter-widgets/controls",
      "_model_module_version": "1.5.0",
      "_model_name": "ProgressStyleModel",
      "_view_count": null,
      "_view_module": "@jupyter-widgets/base",
      "_view_module_version": "1.2.0",
      "_view_name": "StyleView",
      "bar_color": null,
      "description_width": ""
     }
    },
    "fdece24cfa164ca5a8262c6444f66c37": {
     "model_module": "@jupyter-widgets/base",
     "model_module_version": "1.2.0",
     "model_name": "LayoutModel",
     "state": {
      "_model_module": "@jupyter-widgets/base",
      "_model_module_version": "1.2.0",
      "_model_name": "LayoutModel",
      "_view_count": null,
      "_view_module": "@jupyter-widgets/base",
      "_view_module_version": "1.2.0",
      "_view_name": "LayoutView",
      "align_content": null,
      "align_items": null,
      "align_self": null,
      "border": null,
      "bottom": null,
      "display": null,
      "flex": null,
      "flex_flow": null,
      "grid_area": null,
      "grid_auto_columns": null,
      "grid_auto_flow": null,
      "grid_auto_rows": null,
      "grid_column": null,
      "grid_gap": null,
      "grid_row": null,
      "grid_template_areas": null,
      "grid_template_columns": null,
      "grid_template_rows": null,
      "height": null,
      "justify_content": null,
      "justify_items": null,
      "left": null,
      "margin": null,
      "max_height": null,
      "max_width": null,
      "min_height": null,
      "min_width": null,
      "object_fit": null,
      "object_position": null,
      "order": null,
      "overflow": null,
      "overflow_x": null,
      "overflow_y": null,
      "padding": null,
      "right": null,
      "top": null,
      "visibility": null,
      "width": null
     }
    },
    "ffb96d2fb0504b68a8a038985f2f02b3": {
     "model_module": "@jupyter-widgets/controls",
     "model_module_version": "1.5.0",
     "model_name": "HTMLModel",
     "state": {
      "_dom_classes": [],
      "_model_module": "@jupyter-widgets/controls",
      "_model_module_version": "1.5.0",
      "_model_name": "HTMLModel",
      "_view_count": null,
      "_view_module": "@jupyter-widgets/controls",
      "_view_module_version": "1.5.0",
      "_view_name": "HTMLView",
      "description": "",
      "description_tooltip": null,
      "layout": "IPY_MODEL_e4059da613a24f90a138d5623c765c9e",
      "placeholder": "​",
      "style": "IPY_MODEL_ba6c0b52c48f41c7b528d97b40277652",
      "value": " 810/810 [15:10&lt;00:00,  1.08it/s]"
     }
    }
   }
  }
 },
 "nbformat": 4,
 "nbformat_minor": 0
}
