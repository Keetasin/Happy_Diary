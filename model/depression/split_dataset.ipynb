{
 "cells": [
  {
   "cell_type": "code",
   "execution_count": null,
   "metadata": {},
   "outputs": [],
   "source": [
    "!pip install scikit-learn\n"
   ]
  },
  {
   "cell_type": "code",
   "execution_count": 3,
   "metadata": {},
   "outputs": [
    {
     "name": "stdout",
     "output_type": "stream",
     "text": [
      "แบ่งข้อมูลเสร็จสิ้น: train.csv และ test.csv ถูกสร้างแล้ว\n"
     ]
    }
   ],
   "source": [
    "import pandas as pd\n",
    "from sklearn.model_selection import train_test_split\n",
    "\n",
    "# โหลด dataset.csv\n",
    "# df01 = pd.read_csv(\"dataset/dataset.csv\")\n",
    "# df02 = pd.read_csv(\"dataset/dataset_augmented1.csv\")\n",
    "df03 = pd.read_csv(\"dataset/dataset_augmented2.csv\")\n",
    "\n",
    "# แบ่งข้อมูลเป็น train (80%) และ test (20%)\n",
    "# train_df01, test_df01 = train_test_split(df01, test_size=0.2, random_state=42)\n",
    "# train_df02, test_df02 = train_test_split(df02, test_size=0.2, random_state=42)\n",
    "train_df03, test_df03 = train_test_split(df03, test_size=0.2, random_state=42)\n",
    "\n",
    "# บันทึกไฟล์ train.csv และ test.csv\n",
    "# train_df01.to_csv(\"dataset/train.csv\", index=False)\n",
    "# test_df01.to_csv(\"dataset/test.csv\", index=False)\n",
    "\n",
    "# train_df02.to_csv(\"dataset/train_augmented1.csv\", index=False)\n",
    "# test_df02.to_csv(\"dataset/test_augmented1.csv\", index=False)\n",
    "\n",
    "train_df03.to_csv(\"dataset/train_augmented2.csv\", index=False)\n",
    "test_df03.to_csv(\"dataset/test_augmented2.csv\", index=False)\n",
    "\n",
    "print(\"แบ่งข้อมูลเสร็จสิ้น: train.csv และ test.csv ถูกสร้างแล้ว\")"
   ]
  },
  {
   "cell_type": "code",
   "execution_count": 1,
   "metadata": {},
   "outputs": [
    {
     "name": "stdout",
     "output_type": "stream",
     "text": [
      "label\n",
      "mild        2587\n",
      "minimum     2587\n",
      "moderate    2587\n",
      "severe      2587\n",
      "Name: count, dtype: int64\n",
      "label\n",
      "severe      2083\n",
      "moderate    2074\n",
      "minimum     2067\n",
      "mild        2054\n",
      "Name: count, dtype: int64\n",
      "label\n",
      "mild        533\n",
      "minimum     520\n",
      "moderate    513\n",
      "severe      504\n",
      "Name: count, dtype: int64\n"
     ]
    }
   ],
   "source": [
    "import pandas as pd\n",
    "\n",
    "# โหลดข้อมูลจากไฟล์ CSV\n",
    "# df01 = pd.read_csv('dataset/dataset.csv')\n",
    "# df03 = pd.read_csv(\"dataset/train.csv\")\n",
    "# df04 = pd.read_csv(\"dataset/test.csv\")\n",
    "# df02 = pd.read_csv('dataset/dataset_augmented1.csv')\n",
    "# df05 = pd.read_csv(\"dataset/train_augmented1.csv\")\n",
    "# df06 = pd.read_csv(\"dataset/test_augmented1.csv\")\n",
    "df07 = pd.read_csv('dataset/dataset_augmented2.csv')\n",
    "df08 = pd.read_csv(\"dataset/train_augmented2.csv\")\n",
    "df09 = pd.read_csv(\"dataset/test_augmented2.csv\")\n",
    "\n",
    "# ตรวจสอบข้อมูลเบื้องต้น\n",
    "# print(df.head())\n",
    "# print(df01['label'].value_counts())\n",
    "# print(df02['label'].value_counts())\n",
    "# print(df03['label'].value_counts())\n",
    "# print(df04['label'].value_counts())\n",
    "# print(df05['label'].value_counts())\n",
    "# print(df06['label'].value_counts())\n",
    "print(df07['label'].value_counts())\n",
    "print(df08['label'].value_counts())\n",
    "print(df09['label'].value_counts())"
   ]
  }
 ],
 "metadata": {
  "kernelspec": {
   "display_name": "venv",
   "language": "python",
   "name": "python3"
  },
  "language_info": {
   "codemirror_mode": {
    "name": "ipython",
    "version": 3
   },
   "file_extension": ".py",
   "mimetype": "text/x-python",
   "name": "python",
   "nbconvert_exporter": "python",
   "pygments_lexer": "ipython3",
   "version": "3.10.8"
  }
 },
 "nbformat": 4,
 "nbformat_minor": 2
}
