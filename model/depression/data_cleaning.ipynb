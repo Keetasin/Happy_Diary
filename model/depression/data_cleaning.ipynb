{
 "cells": [
  {
   "cell_type": "code",
   "execution_count": null,
   "metadata": {},
   "outputs": [],
   "source": [
    "import pandas as pd\n",
    "import re\n",
    "\n",
    "# โหลดข้อมูลจากไฟล์ที่คุณมี\n",
    "file_path = \"dataset/dataset_augmented.csv\"  \n",
    "df = pd.read_csv(file_path)\n",
    "\n",
    "# ตรวจสอบข้อมูลเบื้องต้น\n",
    "print(\"ข้อมูลก่อนการทำความสะอาด:\")\n",
    "print(df.head())\n",
    "print(df.info())\n",
    "\n",
    "# ลบแถวที่มีค่าว่าง\n",
    "df.dropna(inplace=True)\n",
    "\n",
    "# ฟังก์ชันทำความสะอาดข้อความ\n",
    "def clean_text(text):\n",
    "    text = text.lower()  \n",
    "    text = re.sub(r'http\\S+|www\\S+|https\\S+', '', text)  \n",
    "    text = re.sub(r'@\\w+', '', text)  \n",
    "    text = re.sub(r'[^a-z\\s]', '', text)  \n",
    "    return text\n",
    "\n",
    "# ใช้ฟังก์ชันทำความสะอาดกับคอลัมน์ \"text\"\n",
    "df['text'] = df['text'].astype(str).apply(clean_text)\n",
    "df.drop_duplicates(inplace=True)\n",
    "\n",
    "\n",
    "# บันทึกไฟล์ใหม่หลังการทำความสะอาด\n",
    "cleaned_file_path = \"dataset/cleaned_dataset_augmented.csv\"\n",
    "df.to_csv(cleaned_file_path, index=False)\n",
    "\n",
    "print(f\"\\nข้อมูลถูกทำความสะอาดแล้วและบันทึกเป็นไฟล์ {cleaned_file_path}\")\n",
    "print(df.head())\n"
   ]
  },
  {
   "cell_type": "code",
   "execution_count": null,
   "metadata": {},
   "outputs": [],
   "source": [
    "import pandas as pd\n",
    "\n",
    "# โหลดข้อมูลที่ทำความสะอาดแล้ว\n",
    "cleaned_file_path = \"dataset/cleaned_dataset_augmented.csv\"\n",
    "df_cleaned = pd.read_csv(cleaned_file_path)\n",
    "\n",
    "# ตรวจสอบข้อมูลหลังการทำความสะอาด\n",
    "print(\"ข้อมูลหลังการทำความสะอาด:\")\n",
    "print(df_cleaned.head())  \n",
    "print(df_cleaned.info())  \n",
    "print(\"\\nตรวจสอบค่าที่หายไป:\")\n",
    "print(df_cleaned.isnull().sum())  \n",
    "\n",
    "# ตรวจสอบค่าซ้ำซ้อน\n",
    "print(\"\\nตรวจสอบค่าซ้ำซ้อน:\")\n",
    "print(df_cleaned.duplicated().sum())\n"
   ]
  },
  {
   "cell_type": "code",
   "execution_count": null,
   "metadata": {},
   "outputs": [],
   "source": [
    "import pandas as pd\n",
    "\n",
    "# โหลดข้อมูลจากไฟล์ CSV\n",
    "df01 = pd.read_csv('dataset/cleaned_dataset_augmented.csv')\n",
    "\n",
    "# ตรวจสอบข้อมูลเบื้องต้น\n",
    "print(df01['label'].value_counts())\n"
   ]
  }
 ],
 "metadata": {
  "kernelspec": {
   "display_name": "venv",
   "language": "python",
   "name": "python3"
  },
  "language_info": {
   "codemirror_mode": {
    "name": "ipython",
    "version": 3
   },
   "file_extension": ".py",
   "mimetype": "text/x-python",
   "name": "python",
   "nbconvert_exporter": "python",
   "pygments_lexer": "ipython3",
   "version": "3.10.8"
  }
 },
 "nbformat": 4,
 "nbformat_minor": 2
}
